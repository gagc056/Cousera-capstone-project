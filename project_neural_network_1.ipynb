{
    "cells": [
        {
            "cell_type": "code",
            "execution_count": 1,
            "metadata": {},
            "outputs": [],
            "source": "import numpy as np\nimport pandas as pd\nimport tensorflow as tf\nfrom tensorflow import keras\nfrom sklearn.metrics import mean_squared_error\nfrom tensorflow.keras.models import Sequential\nfrom tensorflow.keras.layers import Dense"
        },
        {
            "cell_type": "markdown",
            "metadata": {},
            "source": "Download the data"
        },
        {
            "cell_type": "code",
            "execution_count": 2,
            "metadata": {},
            "outputs": [
                {
                    "data": {
                        "text/html": "<div>\n<style scoped>\n    .dataframe tbody tr th:only-of-type {\n        vertical-align: middle;\n    }\n\n    .dataframe tbody tr th {\n        vertical-align: top;\n    }\n\n    .dataframe thead th {\n        text-align: right;\n    }\n</style>\n<table border=\"1\" class=\"dataframe\">\n  <thead>\n    <tr style=\"text-align: right;\">\n      <th></th>\n      <th>Cement</th>\n      <th>Blast Furnace Slag</th>\n      <th>Fly Ash</th>\n      <th>Water</th>\n      <th>Superplasticizer</th>\n      <th>Coarse Aggregate</th>\n      <th>Fine Aggregate</th>\n      <th>Age</th>\n      <th>Strength</th>\n    </tr>\n  </thead>\n  <tbody>\n    <tr>\n      <th>0</th>\n      <td>540.0</td>\n      <td>0.0</td>\n      <td>0.0</td>\n      <td>162.0</td>\n      <td>2.5</td>\n      <td>1040.0</td>\n      <td>676.0</td>\n      <td>28</td>\n      <td>79.99</td>\n    </tr>\n    <tr>\n      <th>1</th>\n      <td>540.0</td>\n      <td>0.0</td>\n      <td>0.0</td>\n      <td>162.0</td>\n      <td>2.5</td>\n      <td>1055.0</td>\n      <td>676.0</td>\n      <td>28</td>\n      <td>61.89</td>\n    </tr>\n    <tr>\n      <th>2</th>\n      <td>332.5</td>\n      <td>142.5</td>\n      <td>0.0</td>\n      <td>228.0</td>\n      <td>0.0</td>\n      <td>932.0</td>\n      <td>594.0</td>\n      <td>270</td>\n      <td>40.27</td>\n    </tr>\n    <tr>\n      <th>3</th>\n      <td>332.5</td>\n      <td>142.5</td>\n      <td>0.0</td>\n      <td>228.0</td>\n      <td>0.0</td>\n      <td>932.0</td>\n      <td>594.0</td>\n      <td>365</td>\n      <td>41.05</td>\n    </tr>\n    <tr>\n      <th>4</th>\n      <td>198.6</td>\n      <td>132.4</td>\n      <td>0.0</td>\n      <td>192.0</td>\n      <td>0.0</td>\n      <td>978.4</td>\n      <td>825.5</td>\n      <td>360</td>\n      <td>44.30</td>\n    </tr>\n  </tbody>\n</table>\n</div>",
                        "text/plain": "   Cement  Blast Furnace Slag  Fly Ash  Water  Superplasticizer  \\\n0   540.0                 0.0      0.0  162.0               2.5   \n1   540.0                 0.0      0.0  162.0               2.5   \n2   332.5               142.5      0.0  228.0               0.0   \n3   332.5               142.5      0.0  228.0               0.0   \n4   198.6               132.4      0.0  192.0               0.0   \n\n   Coarse Aggregate  Fine Aggregate  Age  Strength  \n0            1040.0           676.0   28     79.99  \n1            1055.0           676.0   28     61.89  \n2             932.0           594.0  270     40.27  \n3             932.0           594.0  365     41.05  \n4             978.4           825.5  360     44.30  "
                    },
                    "execution_count": 2,
                    "metadata": {},
                    "output_type": "execute_result"
                }
            ],
            "source": "concrete_data = pd.read_csv('https://s3-api.us-geo.objectstorage.softlayer.net/cf-courses-data/CognitiveClass/DL0101EN/labs/data/concrete_data.csv')\nconcrete_data.head()"
        },
        {
            "cell_type": "code",
            "execution_count": 3,
            "metadata": {},
            "outputs": [
                {
                    "data": {
                        "text/plain": "(1030, 9)"
                    },
                    "execution_count": 3,
                    "metadata": {},
                    "output_type": "execute_result"
                }
            ],
            "source": "concrete_data.shape"
        },
        {
            "cell_type": "code",
            "execution_count": 4,
            "metadata": {},
            "outputs": [
                {
                    "data": {
                        "text/html": "<div>\n<style scoped>\n    .dataframe tbody tr th:only-of-type {\n        vertical-align: middle;\n    }\n\n    .dataframe tbody tr th {\n        vertical-align: top;\n    }\n\n    .dataframe thead th {\n        text-align: right;\n    }\n</style>\n<table border=\"1\" class=\"dataframe\">\n  <thead>\n    <tr style=\"text-align: right;\">\n      <th></th>\n      <th>Cement</th>\n      <th>Blast Furnace Slag</th>\n      <th>Fly Ash</th>\n      <th>Water</th>\n      <th>Superplasticizer</th>\n      <th>Coarse Aggregate</th>\n      <th>Fine Aggregate</th>\n      <th>Age</th>\n      <th>Strength</th>\n    </tr>\n  </thead>\n  <tbody>\n    <tr>\n      <th>count</th>\n      <td>1030.000000</td>\n      <td>1030.000000</td>\n      <td>1030.000000</td>\n      <td>1030.000000</td>\n      <td>1030.000000</td>\n      <td>1030.000000</td>\n      <td>1030.000000</td>\n      <td>1030.000000</td>\n      <td>1030.000000</td>\n    </tr>\n    <tr>\n      <th>mean</th>\n      <td>281.167864</td>\n      <td>73.895825</td>\n      <td>54.188350</td>\n      <td>181.567282</td>\n      <td>6.204660</td>\n      <td>972.918932</td>\n      <td>773.580485</td>\n      <td>45.662136</td>\n      <td>35.817961</td>\n    </tr>\n    <tr>\n      <th>std</th>\n      <td>104.506364</td>\n      <td>86.279342</td>\n      <td>63.997004</td>\n      <td>21.354219</td>\n      <td>5.973841</td>\n      <td>77.753954</td>\n      <td>80.175980</td>\n      <td>63.169912</td>\n      <td>16.705742</td>\n    </tr>\n    <tr>\n      <th>min</th>\n      <td>102.000000</td>\n      <td>0.000000</td>\n      <td>0.000000</td>\n      <td>121.800000</td>\n      <td>0.000000</td>\n      <td>801.000000</td>\n      <td>594.000000</td>\n      <td>1.000000</td>\n      <td>2.330000</td>\n    </tr>\n    <tr>\n      <th>25%</th>\n      <td>192.375000</td>\n      <td>0.000000</td>\n      <td>0.000000</td>\n      <td>164.900000</td>\n      <td>0.000000</td>\n      <td>932.000000</td>\n      <td>730.950000</td>\n      <td>7.000000</td>\n      <td>23.710000</td>\n    </tr>\n    <tr>\n      <th>50%</th>\n      <td>272.900000</td>\n      <td>22.000000</td>\n      <td>0.000000</td>\n      <td>185.000000</td>\n      <td>6.400000</td>\n      <td>968.000000</td>\n      <td>779.500000</td>\n      <td>28.000000</td>\n      <td>34.445000</td>\n    </tr>\n    <tr>\n      <th>75%</th>\n      <td>350.000000</td>\n      <td>142.950000</td>\n      <td>118.300000</td>\n      <td>192.000000</td>\n      <td>10.200000</td>\n      <td>1029.400000</td>\n      <td>824.000000</td>\n      <td>56.000000</td>\n      <td>46.135000</td>\n    </tr>\n    <tr>\n      <th>max</th>\n      <td>540.000000</td>\n      <td>359.400000</td>\n      <td>200.100000</td>\n      <td>247.000000</td>\n      <td>32.200000</td>\n      <td>1145.000000</td>\n      <td>992.600000</td>\n      <td>365.000000</td>\n      <td>82.600000</td>\n    </tr>\n  </tbody>\n</table>\n</div>",
                        "text/plain": "            Cement  Blast Furnace Slag      Fly Ash        Water  \\\ncount  1030.000000         1030.000000  1030.000000  1030.000000   \nmean    281.167864           73.895825    54.188350   181.567282   \nstd     104.506364           86.279342    63.997004    21.354219   \nmin     102.000000            0.000000     0.000000   121.800000   \n25%     192.375000            0.000000     0.000000   164.900000   \n50%     272.900000           22.000000     0.000000   185.000000   \n75%     350.000000          142.950000   118.300000   192.000000   \nmax     540.000000          359.400000   200.100000   247.000000   \n\n       Superplasticizer  Coarse Aggregate  Fine Aggregate          Age  \\\ncount       1030.000000       1030.000000     1030.000000  1030.000000   \nmean           6.204660        972.918932      773.580485    45.662136   \nstd            5.973841         77.753954       80.175980    63.169912   \nmin            0.000000        801.000000      594.000000     1.000000   \n25%            0.000000        932.000000      730.950000     7.000000   \n50%            6.400000        968.000000      779.500000    28.000000   \n75%           10.200000       1029.400000      824.000000    56.000000   \nmax           32.200000       1145.000000      992.600000   365.000000   \n\n          Strength  \ncount  1030.000000  \nmean     35.817961  \nstd      16.705742  \nmin       2.330000  \n25%      23.710000  \n50%      34.445000  \n75%      46.135000  \nmax      82.600000  "
                    },
                    "execution_count": 4,
                    "metadata": {},
                    "output_type": "execute_result"
                }
            ],
            "source": "#Let's check the dataset for any missing values.\nconcrete_data.describe()"
        },
        {
            "cell_type": "code",
            "execution_count": 5,
            "metadata": {},
            "outputs": [
                {
                    "data": {
                        "text/plain": "Cement                0\nBlast Furnace Slag    0\nFly Ash               0\nWater                 0\nSuperplasticizer      0\nCoarse Aggregate      0\nFine Aggregate        0\nAge                   0\nStrength              0\ndtype: int64"
                    },
                    "execution_count": 5,
                    "metadata": {},
                    "output_type": "execute_result"
                }
            ],
            "source": "concrete_data.isnull().sum()"
        },
        {
            "cell_type": "markdown",
            "metadata": {},
            "source": "## Split data into predictors and target\nThe target variable in this problem is the concrete sample strength. Therefore, our predictors will be all the other columns."
        },
        {
            "cell_type": "code",
            "execution_count": 6,
            "metadata": {},
            "outputs": [],
            "source": "concrete_data_columns = concrete_data.columns\n\npredictors = concrete_data[concrete_data_columns[concrete_data_columns != 'Strength']] # all columns except Strength\ntarget = concrete_data['Strength'] # Strength column"
        },
        {
            "cell_type": "code",
            "execution_count": 7,
            "metadata": {},
            "outputs": [
                {
                    "data": {
                        "text/html": "<div>\n<style scoped>\n    .dataframe tbody tr th:only-of-type {\n        vertical-align: middle;\n    }\n\n    .dataframe tbody tr th {\n        vertical-align: top;\n    }\n\n    .dataframe thead th {\n        text-align: right;\n    }\n</style>\n<table border=\"1\" class=\"dataframe\">\n  <thead>\n    <tr style=\"text-align: right;\">\n      <th></th>\n      <th>Cement</th>\n      <th>Blast Furnace Slag</th>\n      <th>Fly Ash</th>\n      <th>Water</th>\n      <th>Superplasticizer</th>\n      <th>Coarse Aggregate</th>\n      <th>Fine Aggregate</th>\n      <th>Age</th>\n    </tr>\n  </thead>\n  <tbody>\n    <tr>\n      <th>0</th>\n      <td>540.0</td>\n      <td>0.0</td>\n      <td>0.0</td>\n      <td>162.0</td>\n      <td>2.5</td>\n      <td>1040.0</td>\n      <td>676.0</td>\n      <td>28</td>\n    </tr>\n    <tr>\n      <th>1</th>\n      <td>540.0</td>\n      <td>0.0</td>\n      <td>0.0</td>\n      <td>162.0</td>\n      <td>2.5</td>\n      <td>1055.0</td>\n      <td>676.0</td>\n      <td>28</td>\n    </tr>\n    <tr>\n      <th>2</th>\n      <td>332.5</td>\n      <td>142.5</td>\n      <td>0.0</td>\n      <td>228.0</td>\n      <td>0.0</td>\n      <td>932.0</td>\n      <td>594.0</td>\n      <td>270</td>\n    </tr>\n    <tr>\n      <th>3</th>\n      <td>332.5</td>\n      <td>142.5</td>\n      <td>0.0</td>\n      <td>228.0</td>\n      <td>0.0</td>\n      <td>932.0</td>\n      <td>594.0</td>\n      <td>365</td>\n    </tr>\n    <tr>\n      <th>4</th>\n      <td>198.6</td>\n      <td>132.4</td>\n      <td>0.0</td>\n      <td>192.0</td>\n      <td>0.0</td>\n      <td>978.4</td>\n      <td>825.5</td>\n      <td>360</td>\n    </tr>\n  </tbody>\n</table>\n</div>",
                        "text/plain": "   Cement  Blast Furnace Slag  Fly Ash  Water  Superplasticizer  \\\n0   540.0                 0.0      0.0  162.0               2.5   \n1   540.0                 0.0      0.0  162.0               2.5   \n2   332.5               142.5      0.0  228.0               0.0   \n3   332.5               142.5      0.0  228.0               0.0   \n4   198.6               132.4      0.0  192.0               0.0   \n\n   Coarse Aggregate  Fine Aggregate  Age  \n0            1040.0           676.0   28  \n1            1055.0           676.0   28  \n2             932.0           594.0  270  \n3             932.0           594.0  365  \n4             978.4           825.5  360  "
                    },
                    "execution_count": 7,
                    "metadata": {},
                    "output_type": "execute_result"
                }
            ],
            "source": "#Let's do a quick sanity check of the predictors and the target dataframes.\npredictors.head()"
        },
        {
            "cell_type": "code",
            "execution_count": 8,
            "metadata": {},
            "outputs": [
                {
                    "data": {
                        "text/plain": "0    79.99\n1    61.89\n2    40.27\n3    41.05\n4    44.30\nName: Strength, dtype: float64"
                    },
                    "execution_count": 8,
                    "metadata": {},
                    "output_type": "execute_result"
                }
            ],
            "source": "target.head()"
        },
        {
            "cell_type": "code",
            "execution_count": 9,
            "metadata": {},
            "outputs": [],
            "source": "n_cols = predictors.shape[1]"
        },
        {
            "cell_type": "markdown",
            "metadata": {},
            "source": "# Build a Neural Network\n"
        },
        {
            "cell_type": "code",
            "execution_count": 10,
            "metadata": {},
            "outputs": [],
            "source": "def regression_model():\n    # create model\n    model = Sequential()\n    model.add(Dense(10, activation='relu', input_shape=(n_cols,)))\n    model.add(Dense(1))\n    \n    # compile model\n    model.compile(optimizer='adam', loss='mean_squared_error')\n    return model"
        },
        {
            "cell_type": "code",
            "execution_count": 11,
            "metadata": {},
            "outputs": [],
            "source": "from sklearn.model_selection import train_test_split\nX_train, X_test, y_train, y_test = train_test_split(predictors, target, test_size=0.3, random_state=4)"
        },
        {
            "cell_type": "code",
            "execution_count": 12,
            "metadata": {},
            "outputs": [],
            "source": "# build the model\nmodel = regression_model()"
        },
        {
            "cell_type": "markdown",
            "metadata": {},
            "source": "# Train and Test the Network"
        },
        {
            "cell_type": "code",
            "execution_count": 13,
            "metadata": {},
            "outputs": [
                {
                    "name": "stdout",
                    "output_type": "stream",
                    "text": "Epoch 1/50\n10/10 - 0s - loss: 6169.5645\nEpoch 2/50\n10/10 - 0s - loss: 3723.8308\nEpoch 3/50\n10/10 - 0s - loss: 3522.9846\nEpoch 4/50\n10/10 - 0s - loss: 3102.9326\nEpoch 5/50\n10/10 - 0s - loss: 2915.3071\nEpoch 6/50\n10/10 - 0s - loss: 2671.4346\nEpoch 7/50\n10/10 - 0s - loss: 2499.9167\nEpoch 8/50\n10/10 - 0s - loss: 2322.0835\nEpoch 9/50\n10/10 - 0s - loss: 2201.2175\nEpoch 10/50\n10/10 - 0s - loss: 2056.7620\nEpoch 11/50\n10/10 - 0s - loss: 1931.9855\nEpoch 12/50\n10/10 - 0s - loss: 1822.9938\nEpoch 13/50\n10/10 - 0s - loss: 1701.6871\nEpoch 14/50\n10/10 - 0s - loss: 1610.8539\nEpoch 15/50\n10/10 - 0s - loss: 1518.9344\nEpoch 16/50\n10/10 - 0s - loss: 1425.9821\nEpoch 17/50\n10/10 - 0s - loss: 1347.0446\nEpoch 18/50\n10/10 - 0s - loss: 1274.9208\nEpoch 19/50\n10/10 - 0s - loss: 1203.0922\nEpoch 20/50\n10/10 - 0s - loss: 1135.6112\nEpoch 21/50\n10/10 - 0s - loss: 1069.4152\nEpoch 22/50\n10/10 - 0s - loss: 1010.9938\nEpoch 23/50\n10/10 - 0s - loss: 962.9284\nEpoch 24/50\n10/10 - 0s - loss: 909.6223\nEpoch 25/50\n10/10 - 0s - loss: 862.1072\nEpoch 26/50\n10/10 - 0s - loss: 818.1163\nEpoch 27/50\n10/10 - 0s - loss: 779.1123\nEpoch 28/50\n10/10 - 0s - loss: 736.8206\nEpoch 29/50\n10/10 - 0s - loss: 710.7871\nEpoch 30/50\n10/10 - 0s - loss: 668.3445\nEpoch 31/50\n10/10 - 0s - loss: 636.4854\nEpoch 32/50\n10/10 - 0s - loss: 605.1473\nEpoch 33/50\n10/10 - 0s - loss: 577.0735\nEpoch 34/50\n10/10 - 0s - loss: 560.6121\nEpoch 35/50\n10/10 - 0s - loss: 532.0468\nEpoch 36/50\n10/10 - 0s - loss: 496.3160\nEpoch 37/50\n10/10 - 0s - loss: 482.9656\nEpoch 38/50\n10/10 - 0s - loss: 467.5600\nEpoch 39/50\n10/10 - 0s - loss: 435.9800\nEpoch 40/50\n10/10 - 0s - loss: 419.8291\nEpoch 41/50\n10/10 - 0s - loss: 405.6084\nEpoch 42/50\n10/10 - 0s - loss: 383.1773\nEpoch 43/50\n10/10 - 0s - loss: 369.9477\nEpoch 44/50\n10/10 - 0s - loss: 352.3970\nEpoch 45/50\n10/10 - 0s - loss: 338.5356\nEpoch 46/50\n10/10 - 0s - loss: 331.8616\nEpoch 47/50\n10/10 - 0s - loss: 314.3556\nEpoch 48/50\n10/10 - 0s - loss: 298.4449\nEpoch 49/50\n10/10 - 0s - loss: 288.1865\nEpoch 50/50\n10/10 - 0s - loss: 278.5169\n"
                },
                {
                    "data": {
                        "text/plain": "<tensorflow.python.keras.callbacks.History at 0x7f0a140fc5b0>"
                    },
                    "execution_count": 13,
                    "metadata": {},
                    "output_type": "execute_result"
                }
            ],
            "source": "# build the model\nmodel.fit( X_test, y_test,epochs=50, verbose=2)"
        },
        {
            "cell_type": "code",
            "execution_count": 14,
            "metadata": {},
            "outputs": [
                {
                    "name": "stdout",
                    "output_type": "stream",
                    "text": "10/10 [==============================] - 0s 2ms/step - loss: 270.2638\n"
                },
                {
                    "data": {
                        "text/plain": "270.2637939453125"
                    },
                    "execution_count": 14,
                    "metadata": {},
                    "output_type": "execute_result"
                }
            ],
            "source": "loss = model.evaluate(X_test, y_test)\ny_hat = model.predict(X_test)\nloss"
        },
        {
            "cell_type": "markdown",
            "metadata": {},
            "source": "Create a list of mean squared errors and  the standard deviation of the mean squared errors\n"
        },
        {
            "cell_type": "code",
            "execution_count": 15,
            "metadata": {
                "scrolled": true
            },
            "outputs": [
                {
                    "name": "stdout",
                    "output_type": "stream",
                    "text": "MSE 1: 116.7201156616211\nMSE 2: 116.86056518554688\nMSE 3: 114.36151123046875\nMSE 4: 121.97289276123047\nMSE 5: 112.69996643066406\nMSE 6: 117.98877716064453\nMSE 7: 114.45752716064453\nMSE 8: 134.91880798339844\nMSE 9: 132.8328399658203\nMSE 10: 113.73966217041016\nMSE 11: 115.7122802734375\nMSE 12: 113.94227600097656\nMSE 13: 113.83232116699219\nMSE 14: 114.64460754394531\nMSE 15: 118.24707794189453\nMSE 16: 114.10723876953125\nMSE 17: 113.95895385742188\nMSE 18: 115.16373443603516\nMSE 19: 114.27476501464844\nMSE 20: 115.20381927490234\nMSE 21: 149.15737915039062\nMSE 22: 115.6385498046875\nMSE 23: 115.52606964111328\nMSE 24: 64.54090118408203\nMSE 25: 49.61415481567383\nMSE 26: 47.8180046081543\nMSE 27: 55.242523193359375\nMSE 28: 47.88768768310547\nMSE 29: 47.49251174926758\nMSE 30: 47.49810028076172\nMSE 31: 47.79800796508789\nMSE 32: 50.55666732788086\nMSE 33: 47.84447479248047\nMSE 34: 49.54937744140625\nMSE 35: 47.83056640625\nMSE 36: 49.48836898803711\nMSE 37: 48.32736587524414\nMSE 38: 48.25013732910156\nMSE 39: 48.184654235839844\nMSE 40: 48.79462432861328\nMSE 41: 47.809486389160156\nMSE 42: 53.06937789916992\nMSE 43: 55.29771041870117\nMSE 44: 47.509437561035156\nMSE 45: 51.075313568115234\nMSE 46: 54.764644622802734\nMSE 47: 47.971160888671875\nMSE 48: 47.7152099609375\nMSE 49: 47.50911331176758\nMSE 50: 47.1844482421875\nMean:  81.45171609481591 Standard Deviation: 34.81138253425126\n"
                }
            ],
            "source": "total_mean_squared_errors = 50\nmean_squared_errors = []\nfor i in range(0,total_mean_squared_errors):\n    X_train, X_test, y_train, y_test = train_test_split(predictors, target, test_size=0.3, random_state=4)\n    model.fit(X_train, y_train, epochs=50, verbose=0)\n    MSE = model.evaluate(X_test, y_test, verbose=0)\n    print(\"MSE \"+str(i+1)+\": \"+str(MSE))\n    y_hat = model.predict(X_test)\n    errors = mean_squared_error(y_test, y_hat)\n    mean_squared_errors.append(errors)\n    \nmean = np.mean(np.array(mean_squared_errors))\nSTD = np.std(mean_squared_errors)\nprint(\"Mean: \",str(mean), \"Standard Deviation:\",str(STD))\n"
        },
        {
            "cell_type": "code",
            "execution_count": 16,
            "metadata": {},
            "outputs": [
                {
                    "data": {
                        "text/html": "<div>\n<style scoped>\n    .dataframe tbody tr th:only-of-type {\n        vertical-align: middle;\n    }\n\n    .dataframe tbody tr th {\n        vertical-align: top;\n    }\n\n    .dataframe thead th {\n        text-align: right;\n    }\n</style>\n<table border=\"1\" class=\"dataframe\">\n  <thead>\n    <tr style=\"text-align: right;\">\n      <th></th>\n      <th>Experiment</th>\n      <th>MMSE</th>\n      <th>STD</th>\n    </tr>\n  </thead>\n  <tbody>\n    <tr>\n      <th>0</th>\n      <td>Experiment1</td>\n      <td>81.451716</td>\n      <td>34.811383</td>\n    </tr>\n  </tbody>\n</table>\n</div>",
                        "text/plain": "    Experiment       MMSE        STD\n0  Experiment1  81.451716  34.811383"
                    },
                    "execution_count": 16,
                    "metadata": {},
                    "output_type": "execute_result"
                }
            ],
            "source": "experiment_name='Experiment'\nMMSE='MMSE'\nStandard_Dev='STD'\nreport_header = [experiment_name, MMSE,Standard_Dev]\ndef get_report(name_of_experiment, mean, STD):\n    \n    values = [[experiment_name, mean, STD]]\n\n    return pd.DataFrame(columns=report_header, data=values)\n\nexperiment_name='Experiment1'\n\nget_report(experiment_name, mean, STD)\n"
        },
        {
            "cell_type": "code",
            "execution_count": null,
            "metadata": {},
            "outputs": [],
            "source": ""
        }
    ],
    "metadata": {
        "kernelspec": {
            "display_name": "Python 3.8",
            "language": "python",
            "name": "python3"
        },
        "language_info": {
            "codemirror_mode": {
                "name": "ipython",
                "version": 3
            },
            "file_extension": ".py",
            "mimetype": "text/x-python",
            "name": "python",
            "nbconvert_exporter": "python",
            "pygments_lexer": "ipython3",
            "version": "3.8.12"
        }
    },
    "nbformat": 4,
    "nbformat_minor": 1
}