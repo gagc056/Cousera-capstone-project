{
    "cells": [
        {
            "cell_type": "code",
            "execution_count": 16,
            "metadata": {},
            "outputs": [],
            "source": "import numpy as np\nimport pandas as pd\nimport tensorflow as tf\nfrom tensorflow import keras\nfrom sklearn.metrics import mean_squared_error\nfrom tensorflow.keras.models import Sequential\nfrom tensorflow.keras.layers import Dense"
        },
        {
            "cell_type": "markdown",
            "metadata": {},
            "source": "Download the data"
        },
        {
            "cell_type": "code",
            "execution_count": 17,
            "metadata": {},
            "outputs": [
                {
                    "data": {
                        "text/html": "<div>\n<style scoped>\n    .dataframe tbody tr th:only-of-type {\n        vertical-align: middle;\n    }\n\n    .dataframe tbody tr th {\n        vertical-align: top;\n    }\n\n    .dataframe thead th {\n        text-align: right;\n    }\n</style>\n<table border=\"1\" class=\"dataframe\">\n  <thead>\n    <tr style=\"text-align: right;\">\n      <th></th>\n      <th>Cement</th>\n      <th>Blast Furnace Slag</th>\n      <th>Fly Ash</th>\n      <th>Water</th>\n      <th>Superplasticizer</th>\n      <th>Coarse Aggregate</th>\n      <th>Fine Aggregate</th>\n      <th>Age</th>\n      <th>Strength</th>\n    </tr>\n  </thead>\n  <tbody>\n    <tr>\n      <th>0</th>\n      <td>540.0</td>\n      <td>0.0</td>\n      <td>0.0</td>\n      <td>162.0</td>\n      <td>2.5</td>\n      <td>1040.0</td>\n      <td>676.0</td>\n      <td>28</td>\n      <td>79.99</td>\n    </tr>\n    <tr>\n      <th>1</th>\n      <td>540.0</td>\n      <td>0.0</td>\n      <td>0.0</td>\n      <td>162.0</td>\n      <td>2.5</td>\n      <td>1055.0</td>\n      <td>676.0</td>\n      <td>28</td>\n      <td>61.89</td>\n    </tr>\n    <tr>\n      <th>2</th>\n      <td>332.5</td>\n      <td>142.5</td>\n      <td>0.0</td>\n      <td>228.0</td>\n      <td>0.0</td>\n      <td>932.0</td>\n      <td>594.0</td>\n      <td>270</td>\n      <td>40.27</td>\n    </tr>\n    <tr>\n      <th>3</th>\n      <td>332.5</td>\n      <td>142.5</td>\n      <td>0.0</td>\n      <td>228.0</td>\n      <td>0.0</td>\n      <td>932.0</td>\n      <td>594.0</td>\n      <td>365</td>\n      <td>41.05</td>\n    </tr>\n    <tr>\n      <th>4</th>\n      <td>198.6</td>\n      <td>132.4</td>\n      <td>0.0</td>\n      <td>192.0</td>\n      <td>0.0</td>\n      <td>978.4</td>\n      <td>825.5</td>\n      <td>360</td>\n      <td>44.30</td>\n    </tr>\n  </tbody>\n</table>\n</div>",
                        "text/plain": "   Cement  Blast Furnace Slag  Fly Ash  Water  Superplasticizer  \\\n0   540.0                 0.0      0.0  162.0               2.5   \n1   540.0                 0.0      0.0  162.0               2.5   \n2   332.5               142.5      0.0  228.0               0.0   \n3   332.5               142.5      0.0  228.0               0.0   \n4   198.6               132.4      0.0  192.0               0.0   \n\n   Coarse Aggregate  Fine Aggregate  Age  Strength  \n0            1040.0           676.0   28     79.99  \n1            1055.0           676.0   28     61.89  \n2             932.0           594.0  270     40.27  \n3             932.0           594.0  365     41.05  \n4             978.4           825.5  360     44.30  "
                    },
                    "execution_count": 17,
                    "metadata": {},
                    "output_type": "execute_result"
                }
            ],
            "source": "concrete_data = pd.read_csv('https://s3-api.us-geo.objectstorage.softlayer.net/cf-courses-data/CognitiveClass/DL0101EN/labs/data/concrete_data.csv')\nconcrete_data.head()"
        },
        {
            "cell_type": "code",
            "execution_count": 18,
            "metadata": {},
            "outputs": [
                {
                    "data": {
                        "text/plain": "(1030, 9)"
                    },
                    "execution_count": 18,
                    "metadata": {},
                    "output_type": "execute_result"
                }
            ],
            "source": "concrete_data.shape"
        },
        {
            "cell_type": "code",
            "execution_count": 19,
            "metadata": {},
            "outputs": [
                {
                    "data": {
                        "text/html": "<div>\n<style scoped>\n    .dataframe tbody tr th:only-of-type {\n        vertical-align: middle;\n    }\n\n    .dataframe tbody tr th {\n        vertical-align: top;\n    }\n\n    .dataframe thead th {\n        text-align: right;\n    }\n</style>\n<table border=\"1\" class=\"dataframe\">\n  <thead>\n    <tr style=\"text-align: right;\">\n      <th></th>\n      <th>Cement</th>\n      <th>Blast Furnace Slag</th>\n      <th>Fly Ash</th>\n      <th>Water</th>\n      <th>Superplasticizer</th>\n      <th>Coarse Aggregate</th>\n      <th>Fine Aggregate</th>\n      <th>Age</th>\n      <th>Strength</th>\n    </tr>\n  </thead>\n  <tbody>\n    <tr>\n      <th>count</th>\n      <td>1030.000000</td>\n      <td>1030.000000</td>\n      <td>1030.000000</td>\n      <td>1030.000000</td>\n      <td>1030.000000</td>\n      <td>1030.000000</td>\n      <td>1030.000000</td>\n      <td>1030.000000</td>\n      <td>1030.000000</td>\n    </tr>\n    <tr>\n      <th>mean</th>\n      <td>281.167864</td>\n      <td>73.895825</td>\n      <td>54.188350</td>\n      <td>181.567282</td>\n      <td>6.204660</td>\n      <td>972.918932</td>\n      <td>773.580485</td>\n      <td>45.662136</td>\n      <td>35.817961</td>\n    </tr>\n    <tr>\n      <th>std</th>\n      <td>104.506364</td>\n      <td>86.279342</td>\n      <td>63.997004</td>\n      <td>21.354219</td>\n      <td>5.973841</td>\n      <td>77.753954</td>\n      <td>80.175980</td>\n      <td>63.169912</td>\n      <td>16.705742</td>\n    </tr>\n    <tr>\n      <th>min</th>\n      <td>102.000000</td>\n      <td>0.000000</td>\n      <td>0.000000</td>\n      <td>121.800000</td>\n      <td>0.000000</td>\n      <td>801.000000</td>\n      <td>594.000000</td>\n      <td>1.000000</td>\n      <td>2.330000</td>\n    </tr>\n    <tr>\n      <th>25%</th>\n      <td>192.375000</td>\n      <td>0.000000</td>\n      <td>0.000000</td>\n      <td>164.900000</td>\n      <td>0.000000</td>\n      <td>932.000000</td>\n      <td>730.950000</td>\n      <td>7.000000</td>\n      <td>23.710000</td>\n    </tr>\n    <tr>\n      <th>50%</th>\n      <td>272.900000</td>\n      <td>22.000000</td>\n      <td>0.000000</td>\n      <td>185.000000</td>\n      <td>6.400000</td>\n      <td>968.000000</td>\n      <td>779.500000</td>\n      <td>28.000000</td>\n      <td>34.445000</td>\n    </tr>\n    <tr>\n      <th>75%</th>\n      <td>350.000000</td>\n      <td>142.950000</td>\n      <td>118.300000</td>\n      <td>192.000000</td>\n      <td>10.200000</td>\n      <td>1029.400000</td>\n      <td>824.000000</td>\n      <td>56.000000</td>\n      <td>46.135000</td>\n    </tr>\n    <tr>\n      <th>max</th>\n      <td>540.000000</td>\n      <td>359.400000</td>\n      <td>200.100000</td>\n      <td>247.000000</td>\n      <td>32.200000</td>\n      <td>1145.000000</td>\n      <td>992.600000</td>\n      <td>365.000000</td>\n      <td>82.600000</td>\n    </tr>\n  </tbody>\n</table>\n</div>",
                        "text/plain": "            Cement  Blast Furnace Slag      Fly Ash        Water  \\\ncount  1030.000000         1030.000000  1030.000000  1030.000000   \nmean    281.167864           73.895825    54.188350   181.567282   \nstd     104.506364           86.279342    63.997004    21.354219   \nmin     102.000000            0.000000     0.000000   121.800000   \n25%     192.375000            0.000000     0.000000   164.900000   \n50%     272.900000           22.000000     0.000000   185.000000   \n75%     350.000000          142.950000   118.300000   192.000000   \nmax     540.000000          359.400000   200.100000   247.000000   \n\n       Superplasticizer  Coarse Aggregate  Fine Aggregate          Age  \\\ncount       1030.000000       1030.000000     1030.000000  1030.000000   \nmean           6.204660        972.918932      773.580485    45.662136   \nstd            5.973841         77.753954       80.175980    63.169912   \nmin            0.000000        801.000000      594.000000     1.000000   \n25%            0.000000        932.000000      730.950000     7.000000   \n50%            6.400000        968.000000      779.500000    28.000000   \n75%           10.200000       1029.400000      824.000000    56.000000   \nmax           32.200000       1145.000000      992.600000   365.000000   \n\n          Strength  \ncount  1030.000000  \nmean     35.817961  \nstd      16.705742  \nmin       2.330000  \n25%      23.710000  \n50%      34.445000  \n75%      46.135000  \nmax      82.600000  "
                    },
                    "execution_count": 19,
                    "metadata": {},
                    "output_type": "execute_result"
                }
            ],
            "source": "#Let's check the dataset for any missing values.\nconcrete_data.describe()"
        },
        {
            "cell_type": "code",
            "execution_count": 20,
            "metadata": {},
            "outputs": [
                {
                    "data": {
                        "text/plain": "Cement                0\nBlast Furnace Slag    0\nFly Ash               0\nWater                 0\nSuperplasticizer      0\nCoarse Aggregate      0\nFine Aggregate        0\nAge                   0\nStrength              0\ndtype: int64"
                    },
                    "execution_count": 20,
                    "metadata": {},
                    "output_type": "execute_result"
                }
            ],
            "source": "concrete_data.isnull().sum()"
        },
        {
            "cell_type": "markdown",
            "metadata": {},
            "source": "# Split data into predictors and target\nThe target variable in this problem is the concrete sample strength. Therefore, our predictors will be all the other columns."
        },
        {
            "cell_type": "code",
            "execution_count": 21,
            "metadata": {},
            "outputs": [],
            "source": "concrete_data_columns = concrete_data.columns\n\npredictors = concrete_data[concrete_data_columns[concrete_data_columns != 'Strength']] # all columns except Strength\ntarget = concrete_data['Strength'] # Strength column"
        },
        {
            "cell_type": "code",
            "execution_count": 22,
            "metadata": {},
            "outputs": [
                {
                    "data": {
                        "text/html": "<div>\n<style scoped>\n    .dataframe tbody tr th:only-of-type {\n        vertical-align: middle;\n    }\n\n    .dataframe tbody tr th {\n        vertical-align: top;\n    }\n\n    .dataframe thead th {\n        text-align: right;\n    }\n</style>\n<table border=\"1\" class=\"dataframe\">\n  <thead>\n    <tr style=\"text-align: right;\">\n      <th></th>\n      <th>Cement</th>\n      <th>Blast Furnace Slag</th>\n      <th>Fly Ash</th>\n      <th>Water</th>\n      <th>Superplasticizer</th>\n      <th>Coarse Aggregate</th>\n      <th>Fine Aggregate</th>\n      <th>Age</th>\n    </tr>\n  </thead>\n  <tbody>\n    <tr>\n      <th>0</th>\n      <td>540.0</td>\n      <td>0.0</td>\n      <td>0.0</td>\n      <td>162.0</td>\n      <td>2.5</td>\n      <td>1040.0</td>\n      <td>676.0</td>\n      <td>28</td>\n    </tr>\n    <tr>\n      <th>1</th>\n      <td>540.0</td>\n      <td>0.0</td>\n      <td>0.0</td>\n      <td>162.0</td>\n      <td>2.5</td>\n      <td>1055.0</td>\n      <td>676.0</td>\n      <td>28</td>\n    </tr>\n    <tr>\n      <th>2</th>\n      <td>332.5</td>\n      <td>142.5</td>\n      <td>0.0</td>\n      <td>228.0</td>\n      <td>0.0</td>\n      <td>932.0</td>\n      <td>594.0</td>\n      <td>270</td>\n    </tr>\n    <tr>\n      <th>3</th>\n      <td>332.5</td>\n      <td>142.5</td>\n      <td>0.0</td>\n      <td>228.0</td>\n      <td>0.0</td>\n      <td>932.0</td>\n      <td>594.0</td>\n      <td>365</td>\n    </tr>\n    <tr>\n      <th>4</th>\n      <td>198.6</td>\n      <td>132.4</td>\n      <td>0.0</td>\n      <td>192.0</td>\n      <td>0.0</td>\n      <td>978.4</td>\n      <td>825.5</td>\n      <td>360</td>\n    </tr>\n  </tbody>\n</table>\n</div>",
                        "text/plain": "   Cement  Blast Furnace Slag  Fly Ash  Water  Superplasticizer  \\\n0   540.0                 0.0      0.0  162.0               2.5   \n1   540.0                 0.0      0.0  162.0               2.5   \n2   332.5               142.5      0.0  228.0               0.0   \n3   332.5               142.5      0.0  228.0               0.0   \n4   198.6               132.4      0.0  192.0               0.0   \n\n   Coarse Aggregate  Fine Aggregate  Age  \n0            1040.0           676.0   28  \n1            1055.0           676.0   28  \n2             932.0           594.0  270  \n3             932.0           594.0  365  \n4             978.4           825.5  360  "
                    },
                    "execution_count": 22,
                    "metadata": {},
                    "output_type": "execute_result"
                }
            ],
            "source": "#Let's do a quick sanity check of the predictors and the target dataframes.\npredictors.head()"
        },
        {
            "cell_type": "code",
            "execution_count": 23,
            "metadata": {},
            "outputs": [
                {
                    "data": {
                        "text/plain": "0    79.99\n1    61.89\n2    40.27\n3    41.05\n4    44.30\nName: Strength, dtype: float64"
                    },
                    "execution_count": 23,
                    "metadata": {},
                    "output_type": "execute_result"
                }
            ],
            "source": "target.head()"
        },
        {
            "cell_type": "code",
            "execution_count": 24,
            "metadata": {},
            "outputs": [
                {
                    "data": {
                        "text/plain": "8"
                    },
                    "execution_count": 24,
                    "metadata": {},
                    "output_type": "execute_result"
                }
            ],
            "source": "#Let's save the number of predictors to _n_cols_ since we will need this number when building our network.\nn_cols = predictors.shape[1] # number of predictors\nn_cols"
        },
        {
            "cell_type": "markdown",
            "metadata": {},
            "source": "# Build a Neural Network\n"
        },
        {
            "cell_type": "code",
            "execution_count": 25,
            "metadata": {},
            "outputs": [],
            "source": "def regression_model():\n    # create model\n    model = Sequential()\n    model.add(Dense(10, activation='relu', input_shape=(n_cols,)))\n    model.add(Dense(1))\n    \n    # compile model\n    model.compile(optimizer='Adam', loss='mean_squared_error')\n    return model"
        },
        {
            "cell_type": "code",
            "execution_count": 26,
            "metadata": {},
            "outputs": [],
            "source": "from sklearn.model_selection import train_test_split\nX_train, X_test, y_train, y_test = train_test_split(predictors, target, test_size=0.3, random_state=4)"
        },
        {
            "cell_type": "code",
            "execution_count": 27,
            "metadata": {},
            "outputs": [],
            "source": "# build the model\nmodel = regression_model()"
        },
        {
            "cell_type": "markdown",
            "metadata": {},
            "source": "# Train and Test the Network"
        },
        {
            "cell_type": "code",
            "execution_count": 28,
            "metadata": {},
            "outputs": [
                {
                    "name": "stdout",
                    "output_type": "stream",
                    "text": "Epoch 1/50\n10/10 - 0s - loss: 10620.8936\nEpoch 2/50\n10/10 - 0s - loss: 5451.8247\nEpoch 3/50\n10/10 - 0s - loss: 3147.9478\nEpoch 4/50\n10/10 - 0s - loss: 2473.1338\nEpoch 5/50\n10/10 - 0s - loss: 2290.9771\nEpoch 6/50\n10/10 - 0s - loss: 2019.8341\nEpoch 7/50\n10/10 - 0s - loss: 1843.2894\nEpoch 8/50\n10/10 - 0s - loss: 1724.1053\nEpoch 9/50\n10/10 - 0s - loss: 1618.1627\nEpoch 10/50\n10/10 - 0s - loss: 1525.1643\nEpoch 11/50\n10/10 - 0s - loss: 1439.5200\nEpoch 12/50\n10/10 - 0s - loss: 1354.4043\nEpoch 13/50\n10/10 - 0s - loss: 1284.1731\nEpoch 14/50\n10/10 - 0s - loss: 1206.0568\nEpoch 15/50\n10/10 - 0s - loss: 1141.1635\nEpoch 16/50\n10/10 - 0s - loss: 1077.9773\nEpoch 17/50\n10/10 - 0s - loss: 1015.7258\nEpoch 18/50\n10/10 - 0s - loss: 959.8320\nEpoch 19/50\n10/10 - 0s - loss: 902.5847\nEpoch 20/50\n10/10 - 0s - loss: 854.6951\nEpoch 21/50\n10/10 - 0s - loss: 807.8838\nEpoch 22/50\n10/10 - 0s - loss: 761.7543\nEpoch 23/50\n10/10 - 0s - loss: 718.6921\nEpoch 24/50\n10/10 - 0s - loss: 677.7453\nEpoch 25/50\n10/10 - 0s - loss: 640.9288\nEpoch 26/50\n10/10 - 0s - loss: 607.0681\nEpoch 27/50\n10/10 - 0s - loss: 578.4007\nEpoch 28/50\n10/10 - 0s - loss: 543.9861\nEpoch 29/50\n10/10 - 0s - loss: 522.0132\nEpoch 30/50\n10/10 - 0s - loss: 483.8063\nEpoch 31/50\n10/10 - 0s - loss: 455.9936\nEpoch 32/50\n10/10 - 0s - loss: 428.7862\nEpoch 33/50\n10/10 - 0s - loss: 408.5042\nEpoch 34/50\n10/10 - 0s - loss: 385.3938\nEpoch 35/50\n10/10 - 0s - loss: 366.5204\nEpoch 36/50\n10/10 - 0s - loss: 348.7459\nEpoch 37/50\n10/10 - 0s - loss: 334.0549\nEpoch 38/50\n10/10 - 0s - loss: 319.4484\nEpoch 39/50\n10/10 - 0s - loss: 306.4143\nEpoch 40/50\n10/10 - 0s - loss: 294.7243\nEpoch 41/50\n10/10 - 0s - loss: 283.7778\nEpoch 42/50\n10/10 - 0s - loss: 272.4454\nEpoch 43/50\n10/10 - 0s - loss: 263.5744\nEpoch 44/50\n10/10 - 0s - loss: 256.6003\nEpoch 45/50\n10/10 - 0s - loss: 250.3581\nEpoch 46/50\n10/10 - 0s - loss: 240.9472\nEpoch 47/50\n10/10 - 0s - loss: 237.2852\nEpoch 48/50\n10/10 - 0s - loss: 231.3314\nEpoch 49/50\n10/10 - 0s - loss: 227.3474\nEpoch 50/50\n10/10 - 0s - loss: 222.3755\n"
                },
                {
                    "data": {
                        "text/plain": "<tensorflow.python.keras.callbacks.History at 0x7fa5986bab50>"
                    },
                    "execution_count": 28,
                    "metadata": {},
                    "output_type": "execute_result"
                }
            ],
            "source": "# build the model\nmodel.fit( X_test, y_test,epochs=50, verbose=2)"
        },
        {
            "cell_type": "code",
            "execution_count": 29,
            "metadata": {},
            "outputs": [
                {
                    "name": "stdout",
                    "output_type": "stream",
                    "text": "10/10 [==============================] - 0s 2ms/step - loss: 219.3179\n"
                },
                {
                    "data": {
                        "text/plain": "219.31785583496094"
                    },
                    "execution_count": 29,
                    "metadata": {},
                    "output_type": "execute_result"
                }
            ],
            "source": "loss = model.evaluate(X_test, y_test)\ny_hat = model.predict(X_test)\nloss"
        },
        {
            "cell_type": "markdown",
            "metadata": {},
            "source": "Create a list of mean squared errors and  the standard deviation of the mean squared errors\n"
        },
        {
            "cell_type": "code",
            "execution_count": 30,
            "metadata": {},
            "outputs": [
                {
                    "name": "stdout",
                    "output_type": "stream",
                    "text": "MSE 1: 102.37256622314453\nMSE 2: 72.82220458984375\nMSE 3: 69.28813934326172\nMSE 4: 71.84756469726562\nMSE 5: 75.47732543945312\nMSE 6: 68.42498016357422\nMSE 7: 68.74856567382812\nMSE 8: 68.88323974609375\nMSE 9: 70.54035186767578\nMSE 10: 68.1966552734375\nMSE 11: 68.00605010986328\nMSE 12: 68.46613311767578\nMSE 13: 80.60930633544922\nMSE 14: 69.07994842529297\nMSE 15: 71.56793212890625\nMSE 16: 69.2876205444336\nMSE 17: 71.18002319335938\nMSE 18: 68.13077545166016\nMSE 19: 69.33892059326172\nMSE 20: 68.63471221923828\nMSE 21: 73.84709167480469\nMSE 22: 71.34858703613281\nMSE 23: 71.85639953613281\nMSE 24: 68.1711654663086\nMSE 25: 69.28718566894531\nMSE 26: 70.14064025878906\nMSE 27: 70.06784057617188\nMSE 28: 68.73291778564453\nMSE 29: 68.06011962890625\nMSE 30: 68.57906341552734\nMSE 31: 70.0855484008789\nMSE 32: 69.83283996582031\nMSE 33: 69.69082641601562\nMSE 34: 67.27691650390625\nMSE 35: 66.45745086669922\nMSE 36: 66.8046875\nMSE 37: 66.1673355102539\nMSE 38: 65.40049743652344\nMSE 39: 72.31665802001953\nMSE 40: 63.1848258972168\nMSE 41: 62.14223861694336\nMSE 42: 61.64064407348633\nMSE 43: 61.28895950317383\nMSE 44: 61.61613082885742\nMSE 45: 61.03230667114258\nMSE 46: 60.83409118652344\nMSE 47: 60.370643615722656\nMSE 48: 58.1840934753418\nMSE 49: 56.50521469116211\nMSE 50: 53.639854431152344\nMean:  68.3093160738253 Standard Deviation: 6.869203785622066\n"
                }
            ],
            "source": "total_mean_squared_errors = 50\nmean_squared_errors = []\nfor i in range(0,total_mean_squared_errors):\n    X_train, X_test, y_train, y_test = train_test_split(predictors, target, test_size=0.3, random_state=4)\n    model.fit(X_train, y_train, epochs=50, verbose=0)\n    MSE = model.evaluate(X_test, y_test, verbose=0)\n    print(\"MSE \"+str(i+1)+\": \"+str(MSE))\n    y_hat = model.predict(X_test)\n    errors = mean_squared_error(y_test, y_hat)\n    mean_squared_errors.append(errors)\n    \nmean = np.mean(np.array(mean_squared_errors))\nSTD = np.std(mean_squared_errors)\nprint(\"Mean: \",str(mean), \"Standard Deviation:\",str(STD))\n"
        }
    ],
    "metadata": {
        "kernelspec": {
            "display_name": "Python 3.8",
            "language": "python",
            "name": "python3"
        },
        "language_info": {
            "codemirror_mode": {
                "name": "ipython",
                "version": 3
            },
            "file_extension": ".py",
            "mimetype": "text/x-python",
            "name": "python",
            "nbconvert_exporter": "python",
            "pygments_lexer": "ipython3",
            "version": "3.8.12"
        }
    },
    "nbformat": 4,
    "nbformat_minor": 1
}