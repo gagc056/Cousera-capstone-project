{
    "cells": [
        {
            "cell_type": "code",
            "execution_count": 18,
            "metadata": {},
            "outputs": [],
            "source": "import numpy as np\nimport pandas as pd\nimport tensorflow as tf\nfrom tensorflow import keras\nfrom sklearn.metrics import mean_squared_error\nfrom tensorflow.keras.models import Sequential\nfrom tensorflow.keras.layers import Dense"
        },
        {
            "cell_type": "code",
            "execution_count": 19,
            "metadata": {},
            "outputs": [],
            "source": "#Download the data"
        },
        {
            "cell_type": "code",
            "execution_count": 20,
            "metadata": {},
            "outputs": [
                {
                    "data": {
                        "text/html": "<div>\n<style scoped>\n    .dataframe tbody tr th:only-of-type {\n        vertical-align: middle;\n    }\n\n    .dataframe tbody tr th {\n        vertical-align: top;\n    }\n\n    .dataframe thead th {\n        text-align: right;\n    }\n</style>\n<table border=\"1\" class=\"dataframe\">\n  <thead>\n    <tr style=\"text-align: right;\">\n      <th></th>\n      <th>Cement</th>\n      <th>Blast Furnace Slag</th>\n      <th>Fly Ash</th>\n      <th>Water</th>\n      <th>Superplasticizer</th>\n      <th>Coarse Aggregate</th>\n      <th>Fine Aggregate</th>\n      <th>Age</th>\n      <th>Strength</th>\n    </tr>\n  </thead>\n  <tbody>\n    <tr>\n      <th>0</th>\n      <td>540.0</td>\n      <td>0.0</td>\n      <td>0.0</td>\n      <td>162.0</td>\n      <td>2.5</td>\n      <td>1040.0</td>\n      <td>676.0</td>\n      <td>28</td>\n      <td>79.99</td>\n    </tr>\n    <tr>\n      <th>1</th>\n      <td>540.0</td>\n      <td>0.0</td>\n      <td>0.0</td>\n      <td>162.0</td>\n      <td>2.5</td>\n      <td>1055.0</td>\n      <td>676.0</td>\n      <td>28</td>\n      <td>61.89</td>\n    </tr>\n    <tr>\n      <th>2</th>\n      <td>332.5</td>\n      <td>142.5</td>\n      <td>0.0</td>\n      <td>228.0</td>\n      <td>0.0</td>\n      <td>932.0</td>\n      <td>594.0</td>\n      <td>270</td>\n      <td>40.27</td>\n    </tr>\n    <tr>\n      <th>3</th>\n      <td>332.5</td>\n      <td>142.5</td>\n      <td>0.0</td>\n      <td>228.0</td>\n      <td>0.0</td>\n      <td>932.0</td>\n      <td>594.0</td>\n      <td>365</td>\n      <td>41.05</td>\n    </tr>\n    <tr>\n      <th>4</th>\n      <td>198.6</td>\n      <td>132.4</td>\n      <td>0.0</td>\n      <td>192.0</td>\n      <td>0.0</td>\n      <td>978.4</td>\n      <td>825.5</td>\n      <td>360</td>\n      <td>44.30</td>\n    </tr>\n  </tbody>\n</table>\n</div>",
                        "text/plain": "   Cement  Blast Furnace Slag  Fly Ash  Water  Superplasticizer  \\\n0   540.0                 0.0      0.0  162.0               2.5   \n1   540.0                 0.0      0.0  162.0               2.5   \n2   332.5               142.5      0.0  228.0               0.0   \n3   332.5               142.5      0.0  228.0               0.0   \n4   198.6               132.4      0.0  192.0               0.0   \n\n   Coarse Aggregate  Fine Aggregate  Age  Strength  \n0            1040.0           676.0   28     79.99  \n1            1055.0           676.0   28     61.89  \n2             932.0           594.0  270     40.27  \n3             932.0           594.0  365     41.05  \n4             978.4           825.5  360     44.30  "
                    },
                    "execution_count": 20,
                    "metadata": {},
                    "output_type": "execute_result"
                }
            ],
            "source": "concrete_data = pd.read_csv('https://s3-api.us-geo.objectstorage.softlayer.net/cf-courses-data/CognitiveClass/DL0101EN/labs/data/concrete_data.csv')\nconcrete_data.head()"
        },
        {
            "cell_type": "code",
            "execution_count": 21,
            "metadata": {},
            "outputs": [
                {
                    "data": {
                        "text/plain": "(1030, 9)"
                    },
                    "execution_count": 21,
                    "metadata": {},
                    "output_type": "execute_result"
                }
            ],
            "source": "concrete_data.shape"
        },
        {
            "cell_type": "code",
            "execution_count": 22,
            "metadata": {},
            "outputs": [
                {
                    "data": {
                        "text/html": "<div>\n<style scoped>\n    .dataframe tbody tr th:only-of-type {\n        vertical-align: middle;\n    }\n\n    .dataframe tbody tr th {\n        vertical-align: top;\n    }\n\n    .dataframe thead th {\n        text-align: right;\n    }\n</style>\n<table border=\"1\" class=\"dataframe\">\n  <thead>\n    <tr style=\"text-align: right;\">\n      <th></th>\n      <th>Cement</th>\n      <th>Blast Furnace Slag</th>\n      <th>Fly Ash</th>\n      <th>Water</th>\n      <th>Superplasticizer</th>\n      <th>Coarse Aggregate</th>\n      <th>Fine Aggregate</th>\n      <th>Age</th>\n      <th>Strength</th>\n    </tr>\n  </thead>\n  <tbody>\n    <tr>\n      <th>count</th>\n      <td>1030.000000</td>\n      <td>1030.000000</td>\n      <td>1030.000000</td>\n      <td>1030.000000</td>\n      <td>1030.000000</td>\n      <td>1030.000000</td>\n      <td>1030.000000</td>\n      <td>1030.000000</td>\n      <td>1030.000000</td>\n    </tr>\n    <tr>\n      <th>mean</th>\n      <td>281.167864</td>\n      <td>73.895825</td>\n      <td>54.188350</td>\n      <td>181.567282</td>\n      <td>6.204660</td>\n      <td>972.918932</td>\n      <td>773.580485</td>\n      <td>45.662136</td>\n      <td>35.817961</td>\n    </tr>\n    <tr>\n      <th>std</th>\n      <td>104.506364</td>\n      <td>86.279342</td>\n      <td>63.997004</td>\n      <td>21.354219</td>\n      <td>5.973841</td>\n      <td>77.753954</td>\n      <td>80.175980</td>\n      <td>63.169912</td>\n      <td>16.705742</td>\n    </tr>\n    <tr>\n      <th>min</th>\n      <td>102.000000</td>\n      <td>0.000000</td>\n      <td>0.000000</td>\n      <td>121.800000</td>\n      <td>0.000000</td>\n      <td>801.000000</td>\n      <td>594.000000</td>\n      <td>1.000000</td>\n      <td>2.330000</td>\n    </tr>\n    <tr>\n      <th>25%</th>\n      <td>192.375000</td>\n      <td>0.000000</td>\n      <td>0.000000</td>\n      <td>164.900000</td>\n      <td>0.000000</td>\n      <td>932.000000</td>\n      <td>730.950000</td>\n      <td>7.000000</td>\n      <td>23.710000</td>\n    </tr>\n    <tr>\n      <th>50%</th>\n      <td>272.900000</td>\n      <td>22.000000</td>\n      <td>0.000000</td>\n      <td>185.000000</td>\n      <td>6.400000</td>\n      <td>968.000000</td>\n      <td>779.500000</td>\n      <td>28.000000</td>\n      <td>34.445000</td>\n    </tr>\n    <tr>\n      <th>75%</th>\n      <td>350.000000</td>\n      <td>142.950000</td>\n      <td>118.300000</td>\n      <td>192.000000</td>\n      <td>10.200000</td>\n      <td>1029.400000</td>\n      <td>824.000000</td>\n      <td>56.000000</td>\n      <td>46.135000</td>\n    </tr>\n    <tr>\n      <th>max</th>\n      <td>540.000000</td>\n      <td>359.400000</td>\n      <td>200.100000</td>\n      <td>247.000000</td>\n      <td>32.200000</td>\n      <td>1145.000000</td>\n      <td>992.600000</td>\n      <td>365.000000</td>\n      <td>82.600000</td>\n    </tr>\n  </tbody>\n</table>\n</div>",
                        "text/plain": "            Cement  Blast Furnace Slag      Fly Ash        Water  \\\ncount  1030.000000         1030.000000  1030.000000  1030.000000   \nmean    281.167864           73.895825    54.188350   181.567282   \nstd     104.506364           86.279342    63.997004    21.354219   \nmin     102.000000            0.000000     0.000000   121.800000   \n25%     192.375000            0.000000     0.000000   164.900000   \n50%     272.900000           22.000000     0.000000   185.000000   \n75%     350.000000          142.950000   118.300000   192.000000   \nmax     540.000000          359.400000   200.100000   247.000000   \n\n       Superplasticizer  Coarse Aggregate  Fine Aggregate          Age  \\\ncount       1030.000000       1030.000000     1030.000000  1030.000000   \nmean           6.204660        972.918932      773.580485    45.662136   \nstd            5.973841         77.753954       80.175980    63.169912   \nmin            0.000000        801.000000      594.000000     1.000000   \n25%            0.000000        932.000000      730.950000     7.000000   \n50%            6.400000        968.000000      779.500000    28.000000   \n75%           10.200000       1029.400000      824.000000    56.000000   \nmax           32.200000       1145.000000      992.600000   365.000000   \n\n          Strength  \ncount  1030.000000  \nmean     35.817961  \nstd      16.705742  \nmin       2.330000  \n25%      23.710000  \n50%      34.445000  \n75%      46.135000  \nmax      82.600000  "
                    },
                    "execution_count": 22,
                    "metadata": {},
                    "output_type": "execute_result"
                }
            ],
            "source": "#Let's check the dataset for any missing values.\nconcrete_data.describe()"
        },
        {
            "cell_type": "code",
            "execution_count": 23,
            "metadata": {},
            "outputs": [
                {
                    "data": {
                        "text/plain": "Cement                0\nBlast Furnace Slag    0\nFly Ash               0\nWater                 0\nSuperplasticizer      0\nCoarse Aggregate      0\nFine Aggregate        0\nAge                   0\nStrength              0\ndtype: int64"
                    },
                    "execution_count": 23,
                    "metadata": {},
                    "output_type": "execute_result"
                }
            ],
            "source": "concrete_data.isnull().sum()"
        },
        {
            "cell_type": "markdown",
            "metadata": {},
            "source": "# Split data into predictors and target\nThe target variable in this problem is the concrete sample strength. Therefore, our predictors will be all the other columns."
        },
        {
            "cell_type": "code",
            "execution_count": 24,
            "metadata": {},
            "outputs": [],
            "source": "concrete_data_columns = concrete_data.columns\n\npredictors = concrete_data[concrete_data_columns[concrete_data_columns != 'Strength']] # all columns except Strength\ntarget = concrete_data['Strength'] # Strength column"
        },
        {
            "cell_type": "code",
            "execution_count": 25,
            "metadata": {},
            "outputs": [
                {
                    "data": {
                        "text/html": "<div>\n<style scoped>\n    .dataframe tbody tr th:only-of-type {\n        vertical-align: middle;\n    }\n\n    .dataframe tbody tr th {\n        vertical-align: top;\n    }\n\n    .dataframe thead th {\n        text-align: right;\n    }\n</style>\n<table border=\"1\" class=\"dataframe\">\n  <thead>\n    <tr style=\"text-align: right;\">\n      <th></th>\n      <th>Cement</th>\n      <th>Blast Furnace Slag</th>\n      <th>Fly Ash</th>\n      <th>Water</th>\n      <th>Superplasticizer</th>\n      <th>Coarse Aggregate</th>\n      <th>Fine Aggregate</th>\n      <th>Age</th>\n    </tr>\n  </thead>\n  <tbody>\n    <tr>\n      <th>0</th>\n      <td>540.0</td>\n      <td>0.0</td>\n      <td>0.0</td>\n      <td>162.0</td>\n      <td>2.5</td>\n      <td>1040.0</td>\n      <td>676.0</td>\n      <td>28</td>\n    </tr>\n    <tr>\n      <th>1</th>\n      <td>540.0</td>\n      <td>0.0</td>\n      <td>0.0</td>\n      <td>162.0</td>\n      <td>2.5</td>\n      <td>1055.0</td>\n      <td>676.0</td>\n      <td>28</td>\n    </tr>\n    <tr>\n      <th>2</th>\n      <td>332.5</td>\n      <td>142.5</td>\n      <td>0.0</td>\n      <td>228.0</td>\n      <td>0.0</td>\n      <td>932.0</td>\n      <td>594.0</td>\n      <td>270</td>\n    </tr>\n    <tr>\n      <th>3</th>\n      <td>332.5</td>\n      <td>142.5</td>\n      <td>0.0</td>\n      <td>228.0</td>\n      <td>0.0</td>\n      <td>932.0</td>\n      <td>594.0</td>\n      <td>365</td>\n    </tr>\n    <tr>\n      <th>4</th>\n      <td>198.6</td>\n      <td>132.4</td>\n      <td>0.0</td>\n      <td>192.0</td>\n      <td>0.0</td>\n      <td>978.4</td>\n      <td>825.5</td>\n      <td>360</td>\n    </tr>\n  </tbody>\n</table>\n</div>",
                        "text/plain": "   Cement  Blast Furnace Slag  Fly Ash  Water  Superplasticizer  \\\n0   540.0                 0.0      0.0  162.0               2.5   \n1   540.0                 0.0      0.0  162.0               2.5   \n2   332.5               142.5      0.0  228.0               0.0   \n3   332.5               142.5      0.0  228.0               0.0   \n4   198.6               132.4      0.0  192.0               0.0   \n\n   Coarse Aggregate  Fine Aggregate  Age  \n0            1040.0           676.0   28  \n1            1055.0           676.0   28  \n2             932.0           594.0  270  \n3             932.0           594.0  365  \n4             978.4           825.5  360  "
                    },
                    "execution_count": 25,
                    "metadata": {},
                    "output_type": "execute_result"
                }
            ],
            "source": "#Let's do a quick sanity check of the predictors and the target dataframes.\npredictors.head()"
        },
        {
            "cell_type": "code",
            "execution_count": 26,
            "metadata": {},
            "outputs": [
                {
                    "data": {
                        "text/plain": "0    79.99\n1    61.89\n2    40.27\n3    41.05\n4    44.30\nName: Strength, dtype: float64"
                    },
                    "execution_count": 26,
                    "metadata": {},
                    "output_type": "execute_result"
                }
            ],
            "source": "target.head()"
        },
        {
            "cell_type": "markdown",
            "metadata": {},
            "source": "Finally, the last step is to normalize the data by substracting the mean and dividing by the standard deviation."
        },
        {
            "cell_type": "code",
            "execution_count": 27,
            "metadata": {},
            "outputs": [
                {
                    "data": {
                        "text/html": "<div>\n<style scoped>\n    .dataframe tbody tr th:only-of-type {\n        vertical-align: middle;\n    }\n\n    .dataframe tbody tr th {\n        vertical-align: top;\n    }\n\n    .dataframe thead th {\n        text-align: right;\n    }\n</style>\n<table border=\"1\" class=\"dataframe\">\n  <thead>\n    <tr style=\"text-align: right;\">\n      <th></th>\n      <th>Cement</th>\n      <th>Blast Furnace Slag</th>\n      <th>Fly Ash</th>\n      <th>Water</th>\n      <th>Superplasticizer</th>\n      <th>Coarse Aggregate</th>\n      <th>Fine Aggregate</th>\n      <th>Age</th>\n    </tr>\n  </thead>\n  <tbody>\n    <tr>\n      <th>0</th>\n      <td>2.476712</td>\n      <td>-0.856472</td>\n      <td>-0.846733</td>\n      <td>-0.916319</td>\n      <td>-0.620147</td>\n      <td>0.862735</td>\n      <td>-1.217079</td>\n      <td>-0.279597</td>\n    </tr>\n    <tr>\n      <th>1</th>\n      <td>2.476712</td>\n      <td>-0.856472</td>\n      <td>-0.846733</td>\n      <td>-0.916319</td>\n      <td>-0.620147</td>\n      <td>1.055651</td>\n      <td>-1.217079</td>\n      <td>-0.279597</td>\n    </tr>\n    <tr>\n      <th>2</th>\n      <td>0.491187</td>\n      <td>0.795140</td>\n      <td>-0.846733</td>\n      <td>2.174405</td>\n      <td>-1.038638</td>\n      <td>-0.526262</td>\n      <td>-2.239829</td>\n      <td>3.551340</td>\n    </tr>\n    <tr>\n      <th>3</th>\n      <td>0.491187</td>\n      <td>0.795140</td>\n      <td>-0.846733</td>\n      <td>2.174405</td>\n      <td>-1.038638</td>\n      <td>-0.526262</td>\n      <td>-2.239829</td>\n      <td>5.055221</td>\n    </tr>\n    <tr>\n      <th>4</th>\n      <td>-0.790075</td>\n      <td>0.678079</td>\n      <td>-0.846733</td>\n      <td>0.488555</td>\n      <td>-1.038638</td>\n      <td>0.070492</td>\n      <td>0.647569</td>\n      <td>4.976069</td>\n    </tr>\n  </tbody>\n</table>\n</div>",
                        "text/plain": "     Cement  Blast Furnace Slag   Fly Ash     Water  Superplasticizer  \\\n0  2.476712           -0.856472 -0.846733 -0.916319         -0.620147   \n1  2.476712           -0.856472 -0.846733 -0.916319         -0.620147   \n2  0.491187            0.795140 -0.846733  2.174405         -1.038638   \n3  0.491187            0.795140 -0.846733  2.174405         -1.038638   \n4 -0.790075            0.678079 -0.846733  0.488555         -1.038638   \n\n   Coarse Aggregate  Fine Aggregate       Age  \n0          0.862735       -1.217079 -0.279597  \n1          1.055651       -1.217079 -0.279597  \n2         -0.526262       -2.239829  3.551340  \n3         -0.526262       -2.239829  5.055221  \n4          0.070492        0.647569  4.976069  "
                    },
                    "execution_count": 27,
                    "metadata": {},
                    "output_type": "execute_result"
                }
            ],
            "source": "predictors_norm = (predictors - predictors.mean()) / predictors.std()\npredictors_norm.head()"
        },
        {
            "cell_type": "code",
            "execution_count": 28,
            "metadata": {},
            "outputs": [],
            "source": "#Let's save the number of predictors to _n_cols_ since we will need this number when building our network.\nn_cols = predictors_norm.shape[1] # number of predictors"
        },
        {
            "cell_type": "code",
            "execution_count": 29,
            "metadata": {},
            "outputs": [],
            "source": "## Build a Neural Network\ndef regression_model():\n    # create model\n    model = Sequential()\n    model.add(Dense(40, activation='relu', input_shape=(n_cols,)))\n    model.add(Dense(40, activation='relu'))\n    model.add(Dense(40, activation='relu'))\n    model.add(Dense(40, activation='relu'))\n    model.add(Dense(40, activation='relu'))\n    model.add(Dense(40, activation='softmax'))\n    model.add(Dense(1))\n    \n    # compile model\n    model.compile(optimizer='adam', loss='mean_squared_error')\n    return model"
        },
        {
            "cell_type": "code",
            "execution_count": 30,
            "metadata": {},
            "outputs": [],
            "source": "from sklearn.model_selection import train_test_split\nX_train, X_test, y_train, y_test = train_test_split(predictors, target, test_size=0.2, random_state=42)"
        },
        {
            "cell_type": "code",
            "execution_count": 31,
            "metadata": {},
            "outputs": [],
            "source": "# build the model\nmodel = regression_model()"
        },
        {
            "cell_type": "code",
            "execution_count": 32,
            "metadata": {},
            "outputs": [
                {
                    "name": "stdout",
                    "output_type": "stream",
                    "text": "Epoch 1/150\n7/7 - 1s - loss: 1519.0342\nEpoch 2/150\n7/7 - 0s - loss: 1507.5375\nEpoch 3/150\n7/7 - 0s - loss: 1505.6669\nEpoch 4/150\n7/7 - 0s - loss: 1504.6106\nEpoch 5/150\n7/7 - 0s - loss: 1503.5356\nEpoch 6/150\n7/7 - 0s - loss: 1502.4974\nEpoch 7/150\n7/7 - 0s - loss: 1501.4489\nEpoch 8/150\n7/7 - 0s - loss: 1500.4026\nEpoch 9/150\n7/7 - 0s - loss: 1499.3514\nEpoch 10/150\n7/7 - 0s - loss: 1498.3239\nEpoch 11/150\n7/7 - 0s - loss: 1497.3132\nEpoch 12/150\n7/7 - 0s - loss: 1496.2699\nEpoch 13/150\n7/7 - 0s - loss: 1495.2644\nEpoch 14/150\n7/7 - 0s - loss: 1494.2382\nEpoch 15/150\n7/7 - 0s - loss: 1493.2444\nEpoch 16/150\n7/7 - 0s - loss: 1492.2482\nEpoch 17/150\n7/7 - 0s - loss: 1491.2277\nEpoch 18/150\n7/7 - 0s - loss: 1490.2317\nEpoch 19/150\n7/7 - 0s - loss: 1489.2369\nEpoch 20/150\n7/7 - 0s - loss: 1488.2302\nEpoch 21/150\n7/7 - 0s - loss: 1487.2500\nEpoch 22/150\n7/7 - 0s - loss: 1486.2555\nEpoch 23/150\n7/7 - 0s - loss: 1485.2705\nEpoch 24/150\n7/7 - 0s - loss: 1484.2865\nEpoch 25/150\n7/7 - 0s - loss: 1483.2993\nEpoch 26/150\n7/7 - 0s - loss: 1482.3225\nEpoch 27/150\n7/7 - 0s - loss: 1481.3469\nEpoch 28/150\n7/7 - 0s - loss: 1480.3527\nEpoch 29/150\n7/7 - 0s - loss: 1479.3768\nEpoch 30/150\n7/7 - 0s - loss: 1478.4055\nEpoch 31/150\n7/7 - 0s - loss: 1477.4055\nEpoch 32/150\n7/7 - 0s - loss: 1476.4460\nEpoch 33/150\n7/7 - 0s - loss: 1475.4607\nEpoch 34/150\n7/7 - 0s - loss: 1474.4818\nEpoch 35/150\n7/7 - 0s - loss: 1473.5039\nEpoch 36/150\n7/7 - 0s - loss: 1472.5308\nEpoch 37/150\n7/7 - 0s - loss: 1471.5463\nEpoch 38/150\n7/7 - 0s - loss: 1470.5533\nEpoch 39/150\n7/7 - 0s - loss: 1469.5752\nEpoch 40/150\n7/7 - 0s - loss: 1468.6045\nEpoch 41/150\n7/7 - 0s - loss: 1467.6193\nEpoch 42/150\n7/7 - 0s - loss: 1466.6595\nEpoch 43/150\n7/7 - 0s - loss: 1465.6802\nEpoch 44/150\n7/7 - 0s - loss: 1464.7017\nEpoch 45/150\n7/7 - 0s - loss: 1463.7452\nEpoch 46/150\n7/7 - 0s - loss: 1462.7686\nEpoch 47/150\n7/7 - 0s - loss: 1461.8152\nEpoch 48/150\n7/7 - 0s - loss: 1460.8295\nEpoch 49/150\n7/7 - 0s - loss: 1459.8851\nEpoch 50/150\n7/7 - 0s - loss: 1458.9149\nEpoch 51/150\n7/7 - 0s - loss: 1457.9508\nEpoch 52/150\n7/7 - 0s - loss: 1457.0043\nEpoch 53/150\n7/7 - 0s - loss: 1456.0448\nEpoch 54/150\n7/7 - 0s - loss: 1455.0837\nEpoch 55/150\n7/7 - 0s - loss: 1454.1023\nEpoch 56/150\n7/7 - 0s - loss: 1453.1521\nEpoch 57/150\n7/7 - 0s - loss: 1452.1830\nEpoch 58/150\n7/7 - 0s - loss: 1451.2327\nEpoch 59/150\n7/7 - 0s - loss: 1450.2781\nEpoch 60/150\n7/7 - 0s - loss: 1449.3088\nEpoch 61/150\n7/7 - 0s - loss: 1448.3567\nEpoch 62/150\n7/7 - 0s - loss: 1447.3933\nEpoch 63/150\n7/7 - 0s - loss: 1446.4473\nEpoch 64/150\n7/7 - 0s - loss: 1445.4801\nEpoch 65/150\n7/7 - 0s - loss: 1444.5319\nEpoch 66/150\n7/7 - 0s - loss: 1443.5856\nEpoch 67/150\n7/7 - 0s - loss: 1442.6406\nEpoch 68/150\n7/7 - 0s - loss: 1441.6819\nEpoch 69/150\n7/7 - 0s - loss: 1440.7311\nEpoch 70/150\n7/7 - 0s - loss: 1439.7708\nEpoch 71/150\n7/7 - 0s - loss: 1438.8318\nEpoch 72/150\n7/7 - 0s - loss: 1437.8713\nEpoch 73/150\n7/7 - 0s - loss: 1436.9387\nEpoch 74/150\n7/7 - 0s - loss: 1435.9857\nEpoch 75/150\n7/7 - 0s - loss: 1435.0282\nEpoch 76/150\n7/7 - 0s - loss: 1434.1050\nEpoch 77/150\n7/7 - 0s - loss: 1433.1501\nEpoch 78/150\n7/7 - 0s - loss: 1432.1968\nEpoch 79/150\n7/7 - 0s - loss: 1431.2686\nEpoch 80/150\n7/7 - 0s - loss: 1430.3319\nEpoch 81/150\n7/7 - 0s - loss: 1429.3811\nEpoch 82/150\n7/7 - 0s - loss: 1428.4257\nEpoch 83/150\n7/7 - 0s - loss: 1427.4899\nEpoch 84/150\n7/7 - 0s - loss: 1426.5508\nEpoch 85/150\n7/7 - 0s - loss: 1425.5862\nEpoch 86/150\n7/7 - 0s - loss: 1424.6486\nEpoch 87/150\n7/7 - 0s - loss: 1423.6954\nEpoch 88/150\n7/7 - 0s - loss: 1422.7615\nEpoch 89/150\n7/7 - 0s - loss: 1421.8120\nEpoch 90/150\n7/7 - 0s - loss: 1420.8905\nEpoch 91/150\n7/7 - 0s - loss: 1419.9330\nEpoch 92/150\n7/7 - 0s - loss: 1419.0039\nEpoch 93/150\n7/7 - 0s - loss: 1418.0837\nEpoch 94/150\n7/7 - 0s - loss: 1417.1294\nEpoch 95/150\n7/7 - 0s - loss: 1416.2051\nEpoch 96/150\n7/7 - 0s - loss: 1415.2670\nEpoch 97/150\n7/7 - 0s - loss: 1414.3361\nEpoch 98/150\n7/7 - 0s - loss: 1413.3800\nEpoch 99/150\n7/7 - 0s - loss: 1412.4583\nEpoch 100/150\n7/7 - 0s - loss: 1411.5114\nEpoch 101/150\n7/7 - 0s - loss: 1410.5920\nEpoch 102/150\n7/7 - 0s - loss: 1409.6477\nEpoch 103/150\n7/7 - 0s - loss: 1408.7239\nEpoch 104/150\n7/7 - 0s - loss: 1407.7794\nEpoch 105/150\n7/7 - 0s - loss: 1406.8539\nEpoch 106/150\n7/7 - 0s - loss: 1405.9177\nEpoch 107/150\n7/7 - 0s - loss: 1404.9955\nEpoch 108/150\n7/7 - 0s - loss: 1404.0458\nEpoch 109/150\n7/7 - 0s - loss: 1403.1256\nEpoch 110/150\n7/7 - 0s - loss: 1402.1868\nEpoch 111/150\n7/7 - 0s - loss: 1401.2555\nEpoch 112/150\n7/7 - 0s - loss: 1400.3145\nEpoch 113/150\n7/7 - 0s - loss: 1399.3870\nEpoch 114/150\n7/7 - 0s - loss: 1398.4513\nEpoch 115/150\n7/7 - 0s - loss: 1397.5209\nEpoch 116/150\n7/7 - 0s - loss: 1396.5881\nEpoch 117/150\n7/7 - 0s - loss: 1395.6489\nEpoch 118/150\n7/7 - 0s - loss: 1394.7262\nEpoch 119/150\n7/7 - 0s - loss: 1393.7974\nEpoch 120/150\n7/7 - 0s - loss: 1392.8801\nEpoch 121/150\n7/7 - 0s - loss: 1391.9562\nEpoch 122/150\n7/7 - 0s - loss: 1391.0383\nEpoch 123/150\n7/7 - 0s - loss: 1390.1306\nEpoch 124/150\n7/7 - 0s - loss: 1389.2107\nEpoch 125/150\n7/7 - 0s - loss: 1388.2904\nEpoch 126/150\n7/7 - 0s - loss: 1387.3767\nEpoch 127/150\n7/7 - 0s - loss: 1386.4496\nEpoch 128/150\n7/7 - 0s - loss: 1385.5352\nEpoch 129/150\n7/7 - 0s - loss: 1384.6132\nEpoch 130/150\n7/7 - 0s - loss: 1383.6881\nEpoch 131/150\n7/7 - 0s - loss: 1382.7701\nEpoch 132/150\n7/7 - 0s - loss: 1381.8588\nEpoch 133/150\n7/7 - 0s - loss: 1380.9316\nEpoch 134/150\n7/7 - 0s - loss: 1380.0029\nEpoch 135/150\n7/7 - 0s - loss: 1379.0875\nEpoch 136/150\n7/7 - 0s - loss: 1378.1642\nEpoch 137/150\n7/7 - 0s - loss: 1377.2418\nEpoch 138/150\n7/7 - 0s - loss: 1376.3180\nEpoch 139/150\n7/7 - 0s - loss: 1375.3959\nEpoch 140/150\n7/7 - 0s - loss: 1374.4894\nEpoch 141/150\n7/7 - 0s - loss: 1373.5564\nEpoch 142/150\n7/7 - 0s - loss: 1372.6436\nEpoch 143/150\n7/7 - 0s - loss: 1371.7380\nEpoch 144/150\n7/7 - 0s - loss: 1370.8381\nEpoch 145/150\n7/7 - 0s - loss: 1369.9244\nEpoch 146/150\n7/7 - 0s - loss: 1369.0150\nEpoch 147/150\n7/7 - 0s - loss: 1368.1256\nEpoch 148/150\n7/7 - 0s - loss: 1367.2194\nEpoch 149/150\n7/7 - 0s - loss: 1366.3180\nEpoch 150/150\n7/7 - 0s - loss: 1365.4080\n"
                },
                {
                    "data": {
                        "text/plain": "<tensorflow.python.keras.callbacks.History at 0x7f957c208af0>"
                    },
                    "execution_count": 32,
                    "metadata": {},
                    "output_type": "execute_result"
                }
            ],
            "source": "## Train and Test the Network\n\n# build the model\nmodel.fit( X_test, y_test,epochs=150, verbose=2)"
        },
        {
            "cell_type": "code",
            "execution_count": 33,
            "metadata": {},
            "outputs": [
                {
                    "name": "stdout",
                    "output_type": "stream",
                    "text": "7/7 [==============================] - 0s 1ms/step - loss: 1364.8655\n"
                },
                {
                    "data": {
                        "text/plain": "1364.865478515625"
                    },
                    "execution_count": 33,
                    "metadata": {},
                    "output_type": "execute_result"
                }
            ],
            "source": "\nloss = model.evaluate(X_test, y_test)\ny_hat = model.predict(X_test)\nloss"
        },
        {
            "cell_type": "code",
            "execution_count": null,
            "metadata": {},
            "outputs": [
                {
                    "name": "stdout",
                    "output_type": "stream",
                    "text": "MSE 1: 951.409912109375\nMSE 2: 638.3656005859375\nMSE 3: 433.8968811035156\nMSE 4: 329.8431701660156\nMSE 5: 303.11151123046875\nMSE 6: 302.90625\nMSE 7: 303.05657958984375\nMSE 13: 303.0633850097656\nMSE 14: 303.0689697265625\nMSE 15: 303.06048583984375\nMSE 16: 303.0616760253906\nMSE 17: 303.0704345703125\nMSE 18: 303.0740966796875\nMSE 19: 303.0693359375\nMSE 20: 303.06549072265625\nMSE 21: 303.06536865234375\nMSE 22: 303.0644836425781\nMSE 23: 303.06793212890625\nMSE 24: 303.0616760253906\nMSE 25: 303.0675964355469\nMSE 26: 303.065185546875\nMSE 27: 303.0727844238281\nMSE 28: 303.06573486328125\nMSE 29: 303.0577697753906\nMSE 30: 303.0647888183594\nMSE 31: 303.0639343261719\nMSE 32: 303.0637512207031\nMSE 33: 303.0664367675781\nMSE 34: 303.0530700683594\nMSE 35: 303.0619812011719\nMSE 36: 303.064453125\nMSE 37: 303.0729064941406\nMSE 38: 303.0647888183594\nMSE 39: 303.0606689453125\nMSE 40: 303.0588073730469\nMSE 41: 303.0703125\nMSE 42: 303.0667419433594\nMSE 43: 303.0674743652344\nMSE 44: 303.0724792480469\nMSE 45: 303.0591735839844\nMSE 46: 303.0773010253906\nMSE 47: 303.0644226074219\nMSE 48: 303.0656433105469\nMSE 49: 303.0643310546875\nMSE 50: 303.06842041015625\nMSE 51: 303.0587158203125\nMSE 52: 303.0598449707031\nMSE 53: 303.0609130859375\nMSE 54: 303.0594177246094\nMSE 55: 303.0563049316406\nMSE 56: 303.06927490234375\nMSE 57: 303.0588073730469\nMSE 58: 303.06427001953125\nMSE 59: 303.06103515625\nMSE 60: 303.06072998046875\nMSE 61: 303.06573486328125\nMSE 62: 303.0694580078125\nMSE 63: 303.0655212402344\nMSE 64: 303.05950927734375\nMSE 65: 303.0640869140625\nMSE 66: 303.0708312988281\nMSE 67: 303.05523681640625\nMSE 68: 303.05859375\nMSE 69: 303.068115234375\nMSE 70: 303.0646057128906\nMSE 71: 303.069091796875\nMSE 72: 303.0673828125\nMSE 73: 303.05908203125\nMSE 74: 303.0629577636719\nMSE 75: 303.0672302246094\nMSE 76: 303.0577697753906\nMSE 77: 303.06201171875\nMSE 78: 303.0660705566406\nMSE 79: 303.0625305175781\nMSE 80: 303.0577697753906\nMSE 81: 303.06597900390625\nMSE 82: 303.0565185546875\nMSE 83: 303.0640563964844\nMSE 84: 303.0703430175781\nMSE 85: 303.0617980957031\nMSE 86: 303.0530090332031\nMSE 87: 303.06072998046875\nMSE 88: 303.0653381347656\nMSE 89: 303.06390380859375\nMSE 90: 303.0694885253906\nMSE 91: 303.0586242675781\nMSE 92: 303.05908203125\nMSE 93: 303.0740966796875\nMSE 94: 303.0648498535156\nMSE 95: 303.064697265625\nMSE 96: 303.0634460449219\nMSE 97: 303.0658264160156\nMSE 98: 303.06292724609375\nMSE 99: 303.0574645996094\nMSE 100: 303.06842041015625\nMSE 101: 303.0644836425781\nMSE 102: 303.0509948730469\nMSE 103: 303.0555114746094\nMSE 104: 303.073486328125\nMSE 105: 303.06439208984375\nMSE 106: 303.0574951171875\nMSE 107: 303.0669250488281\nMSE 108: 303.0682373046875\nMSE 109: 303.06005859375\nMSE 110: 303.05731201171875\nMSE 111: 303.06365966796875\nMSE 112: 303.0639343261719\nMSE 113: 303.06707763671875\nMSE 114: 303.0638732910156\nMSE 115: 303.0572204589844\nMSE 116: 303.0661315917969\nMSE 117: 303.0627136230469\nMSE 118: 303.0570373535156\nMSE 119: 303.0673522949219\nMSE 120: 303.0696105957031\nMSE 121: 303.0670471191406\nMSE 122: 303.06396484375\nMSE 123: 303.062255859375\nMSE 124: 303.06640625\nMSE 125: 303.06884765625\nMSE 126: 303.0687255859375\nMSE 127: 303.0694274902344\nMSE 128: 303.059326171875\nMSE 129: 303.0714416503906\nMSE 130: 303.0632019042969\nMSE 131: 303.0610046386719\nMSE 132: 303.0625305175781\nMSE 133: 303.0647888183594\nMSE 134: 303.06793212890625\nMSE 135: 303.06683349609375\nMSE 136: 303.0621337890625\nMSE 137: 303.06884765625\nMSE 138: 303.06170654296875\nMSE 139: 303.06500244140625\nMSE 140: 303.0743408203125\nMSE 141: 303.0663757324219\nMSE 142: 303.0734558105469\nMSE 143: 303.0664367675781\nMSE 144: 303.06158447265625\nMSE 145: 303.0610656738281\nMSE 146: 303.06201171875\n"
                }
            ],
            "source": "total_mean_squared_errors = 150\nmean_squared_errors = []\nfor i in range(0,total_mean_squared_errors):\n    X_train, X_test, y_train, y_test = train_test_split(predictors, target, test_size=0.2, random_state=4)\n    model.fit(X_train, y_train, epochs=150, verbose=0)\n    MSE = model.evaluate(X_test, y_test, verbose=0)\n    print(\"MSE \"+str(i+1)+\": \"+str(MSE))\n    y_hat = model.predict(X_test)\n    errors = mean_squared_error(y_test, y_hat)\n    mean_squared_errors.append(errors)\n    \nmean = np.mean(np.array(mean_squared_errors))\nSTD = np.std(mean_squared_errors)\nprint(\"Mean: \",str(mean), \"Standard Deviation:\",str(STD))\n\n\n"
        },
        {
            "cell_type": "code",
            "execution_count": null,
            "metadata": {},
            "outputs": [],
            "source": ""
        }
    ],
    "metadata": {
        "kernelspec": {
            "display_name": "Python 3.8",
            "language": "python",
            "name": "python3"
        },
        "language_info": {
            "codemirror_mode": {
                "name": "ipython",
                "version": 3
            },
            "file_extension": ".py",
            "mimetype": "text/x-python",
            "name": "python",
            "nbconvert_exporter": "python",
            "pygments_lexer": "ipython3",
            "version": "3.8.12"
        }
    },
    "nbformat": 4,
    "nbformat_minor": 1
}