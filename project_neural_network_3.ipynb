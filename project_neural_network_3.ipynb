{
    "cells": [
        {
            "cell_type": "code",
            "execution_count": 1,
            "metadata": {},
            "outputs": [],
            "source": "import numpy as np\nimport pandas as pd\nimport tensorflow as tf\nfrom tensorflow import keras\nfrom sklearn.metrics import mean_squared_error\nfrom tensorflow.keras.models import Sequential\nfrom tensorflow.keras.layers import Dense"
        },
        {
            "cell_type": "markdown",
            "metadata": {},
            "source": "Download the data"
        },
        {
            "cell_type": "code",
            "execution_count": 2,
            "metadata": {},
            "outputs": [
                {
                    "data": {
                        "text/html": "<div>\n<style scoped>\n    .dataframe tbody tr th:only-of-type {\n        vertical-align: middle;\n    }\n\n    .dataframe tbody tr th {\n        vertical-align: top;\n    }\n\n    .dataframe thead th {\n        text-align: right;\n    }\n</style>\n<table border=\"1\" class=\"dataframe\">\n  <thead>\n    <tr style=\"text-align: right;\">\n      <th></th>\n      <th>Cement</th>\n      <th>Blast Furnace Slag</th>\n      <th>Fly Ash</th>\n      <th>Water</th>\n      <th>Superplasticizer</th>\n      <th>Coarse Aggregate</th>\n      <th>Fine Aggregate</th>\n      <th>Age</th>\n      <th>Strength</th>\n    </tr>\n  </thead>\n  <tbody>\n    <tr>\n      <th>0</th>\n      <td>540.0</td>\n      <td>0.0</td>\n      <td>0.0</td>\n      <td>162.0</td>\n      <td>2.5</td>\n      <td>1040.0</td>\n      <td>676.0</td>\n      <td>28</td>\n      <td>79.99</td>\n    </tr>\n    <tr>\n      <th>1</th>\n      <td>540.0</td>\n      <td>0.0</td>\n      <td>0.0</td>\n      <td>162.0</td>\n      <td>2.5</td>\n      <td>1055.0</td>\n      <td>676.0</td>\n      <td>28</td>\n      <td>61.89</td>\n    </tr>\n    <tr>\n      <th>2</th>\n      <td>332.5</td>\n      <td>142.5</td>\n      <td>0.0</td>\n      <td>228.0</td>\n      <td>0.0</td>\n      <td>932.0</td>\n      <td>594.0</td>\n      <td>270</td>\n      <td>40.27</td>\n    </tr>\n    <tr>\n      <th>3</th>\n      <td>332.5</td>\n      <td>142.5</td>\n      <td>0.0</td>\n      <td>228.0</td>\n      <td>0.0</td>\n      <td>932.0</td>\n      <td>594.0</td>\n      <td>365</td>\n      <td>41.05</td>\n    </tr>\n    <tr>\n      <th>4</th>\n      <td>198.6</td>\n      <td>132.4</td>\n      <td>0.0</td>\n      <td>192.0</td>\n      <td>0.0</td>\n      <td>978.4</td>\n      <td>825.5</td>\n      <td>360</td>\n      <td>44.30</td>\n    </tr>\n  </tbody>\n</table>\n</div>",
                        "text/plain": "   Cement  Blast Furnace Slag  Fly Ash  Water  Superplasticizer  \\\n0   540.0                 0.0      0.0  162.0               2.5   \n1   540.0                 0.0      0.0  162.0               2.5   \n2   332.5               142.5      0.0  228.0               0.0   \n3   332.5               142.5      0.0  228.0               0.0   \n4   198.6               132.4      0.0  192.0               0.0   \n\n   Coarse Aggregate  Fine Aggregate  Age  Strength  \n0            1040.0           676.0   28     79.99  \n1            1055.0           676.0   28     61.89  \n2             932.0           594.0  270     40.27  \n3             932.0           594.0  365     41.05  \n4             978.4           825.5  360     44.30  "
                    },
                    "execution_count": 2,
                    "metadata": {},
                    "output_type": "execute_result"
                }
            ],
            "source": "concrete_data = pd.read_csv('https://s3-api.us-geo.objectstorage.softlayer.net/cf-courses-data/CognitiveClass/DL0101EN/labs/data/concrete_data.csv')\nconcrete_data.head()"
        },
        {
            "cell_type": "code",
            "execution_count": 3,
            "metadata": {},
            "outputs": [
                {
                    "data": {
                        "text/plain": "(1030, 9)"
                    },
                    "execution_count": 3,
                    "metadata": {},
                    "output_type": "execute_result"
                }
            ],
            "source": "concrete_data.shape"
        },
        {
            "cell_type": "code",
            "execution_count": 4,
            "metadata": {},
            "outputs": [
                {
                    "data": {
                        "text/html": "<div>\n<style scoped>\n    .dataframe tbody tr th:only-of-type {\n        vertical-align: middle;\n    }\n\n    .dataframe tbody tr th {\n        vertical-align: top;\n    }\n\n    .dataframe thead th {\n        text-align: right;\n    }\n</style>\n<table border=\"1\" class=\"dataframe\">\n  <thead>\n    <tr style=\"text-align: right;\">\n      <th></th>\n      <th>Cement</th>\n      <th>Blast Furnace Slag</th>\n      <th>Fly Ash</th>\n      <th>Water</th>\n      <th>Superplasticizer</th>\n      <th>Coarse Aggregate</th>\n      <th>Fine Aggregate</th>\n      <th>Age</th>\n      <th>Strength</th>\n    </tr>\n  </thead>\n  <tbody>\n    <tr>\n      <th>count</th>\n      <td>1030.000000</td>\n      <td>1030.000000</td>\n      <td>1030.000000</td>\n      <td>1030.000000</td>\n      <td>1030.000000</td>\n      <td>1030.000000</td>\n      <td>1030.000000</td>\n      <td>1030.000000</td>\n      <td>1030.000000</td>\n    </tr>\n    <tr>\n      <th>mean</th>\n      <td>281.167864</td>\n      <td>73.895825</td>\n      <td>54.188350</td>\n      <td>181.567282</td>\n      <td>6.204660</td>\n      <td>972.918932</td>\n      <td>773.580485</td>\n      <td>45.662136</td>\n      <td>35.817961</td>\n    </tr>\n    <tr>\n      <th>std</th>\n      <td>104.506364</td>\n      <td>86.279342</td>\n      <td>63.997004</td>\n      <td>21.354219</td>\n      <td>5.973841</td>\n      <td>77.753954</td>\n      <td>80.175980</td>\n      <td>63.169912</td>\n      <td>16.705742</td>\n    </tr>\n    <tr>\n      <th>min</th>\n      <td>102.000000</td>\n      <td>0.000000</td>\n      <td>0.000000</td>\n      <td>121.800000</td>\n      <td>0.000000</td>\n      <td>801.000000</td>\n      <td>594.000000</td>\n      <td>1.000000</td>\n      <td>2.330000</td>\n    </tr>\n    <tr>\n      <th>25%</th>\n      <td>192.375000</td>\n      <td>0.000000</td>\n      <td>0.000000</td>\n      <td>164.900000</td>\n      <td>0.000000</td>\n      <td>932.000000</td>\n      <td>730.950000</td>\n      <td>7.000000</td>\n      <td>23.710000</td>\n    </tr>\n    <tr>\n      <th>50%</th>\n      <td>272.900000</td>\n      <td>22.000000</td>\n      <td>0.000000</td>\n      <td>185.000000</td>\n      <td>6.400000</td>\n      <td>968.000000</td>\n      <td>779.500000</td>\n      <td>28.000000</td>\n      <td>34.445000</td>\n    </tr>\n    <tr>\n      <th>75%</th>\n      <td>350.000000</td>\n      <td>142.950000</td>\n      <td>118.300000</td>\n      <td>192.000000</td>\n      <td>10.200000</td>\n      <td>1029.400000</td>\n      <td>824.000000</td>\n      <td>56.000000</td>\n      <td>46.135000</td>\n    </tr>\n    <tr>\n      <th>max</th>\n      <td>540.000000</td>\n      <td>359.400000</td>\n      <td>200.100000</td>\n      <td>247.000000</td>\n      <td>32.200000</td>\n      <td>1145.000000</td>\n      <td>992.600000</td>\n      <td>365.000000</td>\n      <td>82.600000</td>\n    </tr>\n  </tbody>\n</table>\n</div>",
                        "text/plain": "            Cement  Blast Furnace Slag      Fly Ash        Water  \\\ncount  1030.000000         1030.000000  1030.000000  1030.000000   \nmean    281.167864           73.895825    54.188350   181.567282   \nstd     104.506364           86.279342    63.997004    21.354219   \nmin     102.000000            0.000000     0.000000   121.800000   \n25%     192.375000            0.000000     0.000000   164.900000   \n50%     272.900000           22.000000     0.000000   185.000000   \n75%     350.000000          142.950000   118.300000   192.000000   \nmax     540.000000          359.400000   200.100000   247.000000   \n\n       Superplasticizer  Coarse Aggregate  Fine Aggregate          Age  \\\ncount       1030.000000       1030.000000     1030.000000  1030.000000   \nmean           6.204660        972.918932      773.580485    45.662136   \nstd            5.973841         77.753954       80.175980    63.169912   \nmin            0.000000        801.000000      594.000000     1.000000   \n25%            0.000000        932.000000      730.950000     7.000000   \n50%            6.400000        968.000000      779.500000    28.000000   \n75%           10.200000       1029.400000      824.000000    56.000000   \nmax           32.200000       1145.000000      992.600000   365.000000   \n\n          Strength  \ncount  1030.000000  \nmean     35.817961  \nstd      16.705742  \nmin       2.330000  \n25%      23.710000  \n50%      34.445000  \n75%      46.135000  \nmax      82.600000  "
                    },
                    "execution_count": 4,
                    "metadata": {},
                    "output_type": "execute_result"
                }
            ],
            "source": "#Let's check the dataset for any missing values.\nconcrete_data.describe()"
        },
        {
            "cell_type": "code",
            "execution_count": 5,
            "metadata": {},
            "outputs": [
                {
                    "data": {
                        "text/plain": "Cement                0\nBlast Furnace Slag    0\nFly Ash               0\nWater                 0\nSuperplasticizer      0\nCoarse Aggregate      0\nFine Aggregate        0\nAge                   0\nStrength              0\ndtype: int64"
                    },
                    "execution_count": 5,
                    "metadata": {},
                    "output_type": "execute_result"
                }
            ],
            "source": "concrete_data.isnull().sum()"
        },
        {
            "cell_type": "markdown",
            "metadata": {},
            "source": "## Split data into predictors and target\nThe target variable in this problem is the concrete sample strength. Therefore, our predictors will be all the other columns."
        },
        {
            "cell_type": "code",
            "execution_count": 6,
            "metadata": {},
            "outputs": [],
            "source": "concrete_data_columns = concrete_data.columns\n\npredictors = concrete_data[concrete_data_columns[concrete_data_columns != 'Strength']] # all columns except Strength\ntarget = concrete_data['Strength'] # Strength column"
        },
        {
            "cell_type": "code",
            "execution_count": 7,
            "metadata": {},
            "outputs": [
                {
                    "data": {
                        "text/html": "<div>\n<style scoped>\n    .dataframe tbody tr th:only-of-type {\n        vertical-align: middle;\n    }\n\n    .dataframe tbody tr th {\n        vertical-align: top;\n    }\n\n    .dataframe thead th {\n        text-align: right;\n    }\n</style>\n<table border=\"1\" class=\"dataframe\">\n  <thead>\n    <tr style=\"text-align: right;\">\n      <th></th>\n      <th>Cement</th>\n      <th>Blast Furnace Slag</th>\n      <th>Fly Ash</th>\n      <th>Water</th>\n      <th>Superplasticizer</th>\n      <th>Coarse Aggregate</th>\n      <th>Fine Aggregate</th>\n      <th>Age</th>\n    </tr>\n  </thead>\n  <tbody>\n    <tr>\n      <th>0</th>\n      <td>540.0</td>\n      <td>0.0</td>\n      <td>0.0</td>\n      <td>162.0</td>\n      <td>2.5</td>\n      <td>1040.0</td>\n      <td>676.0</td>\n      <td>28</td>\n    </tr>\n    <tr>\n      <th>1</th>\n      <td>540.0</td>\n      <td>0.0</td>\n      <td>0.0</td>\n      <td>162.0</td>\n      <td>2.5</td>\n      <td>1055.0</td>\n      <td>676.0</td>\n      <td>28</td>\n    </tr>\n    <tr>\n      <th>2</th>\n      <td>332.5</td>\n      <td>142.5</td>\n      <td>0.0</td>\n      <td>228.0</td>\n      <td>0.0</td>\n      <td>932.0</td>\n      <td>594.0</td>\n      <td>270</td>\n    </tr>\n    <tr>\n      <th>3</th>\n      <td>332.5</td>\n      <td>142.5</td>\n      <td>0.0</td>\n      <td>228.0</td>\n      <td>0.0</td>\n      <td>932.0</td>\n      <td>594.0</td>\n      <td>365</td>\n    </tr>\n    <tr>\n      <th>4</th>\n      <td>198.6</td>\n      <td>132.4</td>\n      <td>0.0</td>\n      <td>192.0</td>\n      <td>0.0</td>\n      <td>978.4</td>\n      <td>825.5</td>\n      <td>360</td>\n    </tr>\n  </tbody>\n</table>\n</div>",
                        "text/plain": "   Cement  Blast Furnace Slag  Fly Ash  Water  Superplasticizer  \\\n0   540.0                 0.0      0.0  162.0               2.5   \n1   540.0                 0.0      0.0  162.0               2.5   \n2   332.5               142.5      0.0  228.0               0.0   \n3   332.5               142.5      0.0  228.0               0.0   \n4   198.6               132.4      0.0  192.0               0.0   \n\n   Coarse Aggregate  Fine Aggregate  Age  \n0            1040.0           676.0   28  \n1            1055.0           676.0   28  \n2             932.0           594.0  270  \n3             932.0           594.0  365  \n4             978.4           825.5  360  "
                    },
                    "execution_count": 7,
                    "metadata": {},
                    "output_type": "execute_result"
                }
            ],
            "source": "#Let's do a quick sanity check of the predictors and the target dataframes.\npredictors.head()"
        },
        {
            "cell_type": "code",
            "execution_count": 8,
            "metadata": {},
            "outputs": [
                {
                    "data": {
                        "text/plain": "0    79.99\n1    61.89\n2    40.27\n3    41.05\n4    44.30\nName: Strength, dtype: float64"
                    },
                    "execution_count": 8,
                    "metadata": {},
                    "output_type": "execute_result"
                }
            ],
            "source": "target.head()"
        },
        {
            "cell_type": "code",
            "execution_count": 9,
            "metadata": {},
            "outputs": [
                {
                    "data": {
                        "text/plain": "8"
                    },
                    "execution_count": 9,
                    "metadata": {},
                    "output_type": "execute_result"
                }
            ],
            "source": "#Let's save the number of predictors to _n_cols_ since we will need this number when building our network.\nn_cols = predictors.shape[1] # number of predictors\nn_cols"
        },
        {
            "cell_type": "markdown",
            "metadata": {},
            "source": "# Build a Neural Network\n"
        },
        {
            "cell_type": "code",
            "execution_count": 10,
            "metadata": {},
            "outputs": [],
            "source": "def regression_model():\n    # create model\n    model = Sequential()\n    model.add(Dense(10, activation='relu', input_shape=(n_cols,)))\n    model.add(Dense(1))\n    \n    # compile model\n    model.compile(optimizer='Adam', loss='mean_squared_error')\n    return model"
        },
        {
            "cell_type": "code",
            "execution_count": 11,
            "metadata": {},
            "outputs": [],
            "source": "from sklearn.model_selection import train_test_split\nX_train, X_test, y_train, y_test = train_test_split(predictors, target, test_size=0.3, random_state=4)"
        },
        {
            "cell_type": "code",
            "execution_count": 12,
            "metadata": {},
            "outputs": [],
            "source": "# build the model\nmodel = regression_model()"
        },
        {
            "cell_type": "markdown",
            "metadata": {},
            "source": "# Train and Test the Network"
        },
        {
            "cell_type": "code",
            "execution_count": 13,
            "metadata": {},
            "outputs": [
                {
                    "name": "stdout",
                    "output_type": "stream",
                    "text": "Epoch 1/100\n10/10 - 0s - loss: 90894.3594\nEpoch 2/100\n10/10 - 0s - loss: 63052.5508\nEpoch 3/100\n10/10 - 0s - loss: 41629.5703\nEpoch 4/100\n10/10 - 0s - loss: 25849.2969\nEpoch 5/100\n10/10 - 0s - loss: 15068.4854\nEpoch 6/100\n10/10 - 0s - loss: 8173.1108\nEpoch 7/100\n10/10 - 0s - loss: 4190.6753\nEpoch 8/100\n10/10 - 0s - loss: 2087.5771\nEpoch 9/100\n10/10 - 0s - loss: 1121.4939\nEpoch 10/100\n10/10 - 0s - loss: 762.9703\nEpoch 11/100\n10/10 - 0s - loss: 658.8525\nEpoch 12/100\n10/10 - 0s - loss: 637.1659\nEpoch 13/100\n10/10 - 0s - loss: 626.1915\nEpoch 14/100\n10/10 - 0s - loss: 617.6251\nEpoch 15/100\n10/10 - 0s - loss: 608.6450\nEpoch 16/100\n10/10 - 0s - loss: 600.1658\nEpoch 17/100\n10/10 - 0s - loss: 591.4016\nEpoch 18/100\n10/10 - 0s - loss: 583.3783\nEpoch 19/100\n10/10 - 0s - loss: 575.1562\nEpoch 20/100\n10/10 - 0s - loss: 567.8523\nEpoch 21/100\n10/10 - 0s - loss: 560.1048\nEpoch 22/100\n10/10 - 0s - loss: 552.1219\nEpoch 23/100\n10/10 - 0s - loss: 543.6422\nEpoch 24/100\n10/10 - 0s - loss: 536.8891\nEpoch 25/100\n10/10 - 0s - loss: 528.4817\nEpoch 26/100\n10/10 - 0s - loss: 521.0055\nEpoch 27/100\n10/10 - 0s - loss: 513.7687\nEpoch 28/100\n10/10 - 0s - loss: 507.2943\nEpoch 29/100\n10/10 - 0s - loss: 500.4572\nEpoch 30/100\n10/10 - 0s - loss: 494.2512\nEpoch 31/100\n10/10 - 0s - loss: 487.0005\nEpoch 32/100\n10/10 - 0s - loss: 480.3865\nEpoch 33/100\n10/10 - 0s - loss: 473.1834\nEpoch 34/100\n10/10 - 0s - loss: 466.0891\nEpoch 35/100\n10/10 - 0s - loss: 460.1791\nEpoch 36/100\n10/10 - 0s - loss: 453.8961\nEpoch 37/100\n10/10 - 0s - loss: 448.2049\nEpoch 38/100\n10/10 - 0s - loss: 441.8880\nEpoch 39/100\n10/10 - 0s - loss: 436.9301\nEpoch 40/100\n10/10 - 0s - loss: 431.0005\nEpoch 41/100\n10/10 - 0s - loss: 425.7435\nEpoch 42/100\n10/10 - 0s - loss: 421.7666\nEpoch 43/100\n10/10 - 0s - loss: 416.4485\nEpoch 44/100\n10/10 - 0s - loss: 411.2410\nEpoch 45/100\n10/10 - 0s - loss: 406.9618\nEpoch 46/100\n10/10 - 0s - loss: 402.4364\nEpoch 47/100\n10/10 - 0s - loss: 397.9531\nEpoch 48/100\n10/10 - 0s - loss: 393.8051\nEpoch 49/100\n10/10 - 0s - loss: 389.6237\nEpoch 50/100\n10/10 - 0s - loss: 385.6505\nEpoch 51/100\n10/10 - 0s - loss: 381.8678\nEpoch 52/100\n10/10 - 0s - loss: 377.7309\nEpoch 53/100\n10/10 - 0s - loss: 374.2075\nEpoch 54/100\n10/10 - 0s - loss: 370.4079\nEpoch 55/100\n10/10 - 0s - loss: 366.2726\nEpoch 56/100\n10/10 - 0s - loss: 363.4797\nEpoch 57/100\n10/10 - 0s - loss: 359.3339\nEpoch 58/100\n10/10 - 0s - loss: 355.7738\nEpoch 59/100\n10/10 - 0s - loss: 352.9388\nEpoch 60/100\n10/10 - 0s - loss: 349.2409\nEpoch 61/100\n10/10 - 0s - loss: 345.5044\nEpoch 62/100\n10/10 - 0s - loss: 342.6228\nEpoch 63/100\n10/10 - 0s - loss: 339.1511\nEpoch 64/100\n10/10 - 0s - loss: 336.1087\nEpoch 65/100\n10/10 - 0s - loss: 333.7360\nEpoch 66/100\n10/10 - 0s - loss: 330.0331\nEpoch 67/100\n10/10 - 0s - loss: 327.2989\nEpoch 68/100\n10/10 - 0s - loss: 324.1208\nEpoch 69/100\n10/10 - 0s - loss: 321.3129\nEpoch 70/100\n10/10 - 0s - loss: 318.4279\nEpoch 71/100\n10/10 - 0s - loss: 316.0666\nEpoch 72/100\n10/10 - 0s - loss: 312.7806\nEpoch 73/100\n10/10 - 0s - loss: 309.9690\nEpoch 74/100\n10/10 - 0s - loss: 308.0900\nEpoch 75/100\n10/10 - 0s - loss: 304.6187\nEpoch 76/100\n10/10 - 0s - loss: 302.5384\nEpoch 77/100\n10/10 - 0s - loss: 299.6076\nEpoch 78/100\n10/10 - 0s - loss: 296.9778\nEpoch 79/100\n10/10 - 0s - loss: 294.6412\nEpoch 80/100\n10/10 - 0s - loss: 292.2493\nEpoch 81/100\n10/10 - 0s - loss: 289.5338\nEpoch 82/100\n10/10 - 0s - loss: 287.0974\nEpoch 83/100\n10/10 - 0s - loss: 284.7474\nEpoch 84/100\n10/10 - 0s - loss: 282.9330\nEpoch 85/100\n10/10 - 0s - loss: 280.2726\nEpoch 86/100\n10/10 - 0s - loss: 277.7631\nEpoch 87/100\n10/10 - 0s - loss: 275.8971\nEpoch 88/100\n10/10 - 0s - loss: 273.4444\nEpoch 89/100\n10/10 - 0s - loss: 271.3917\nEpoch 90/100\n10/10 - 0s - loss: 269.0938\nEpoch 91/100\n10/10 - 0s - loss: 266.9899\nEpoch 92/100\n10/10 - 0s - loss: 264.9448\nEpoch 93/100\n10/10 - 0s - loss: 262.8655\nEpoch 94/100\n10/10 - 0s - loss: 260.9112\nEpoch 95/100\n10/10 - 0s - loss: 258.9607\nEpoch 96/100\n10/10 - 0s - loss: 256.9377\nEpoch 97/100\n10/10 - 0s - loss: 254.9040\nEpoch 98/100\n10/10 - 0s - loss: 253.2966\nEpoch 99/100\n10/10 - 0s - loss: 251.2166\nEpoch 100/100\n10/10 - 0s - loss: 249.0430\n"
                },
                {
                    "data": {
                        "text/plain": "<tensorflow.python.keras.callbacks.History at 0x7f068820f580>"
                    },
                    "execution_count": 13,
                    "metadata": {},
                    "output_type": "execute_result"
                }
            ],
            "source": "# build the model\nmodel.fit( X_test, y_test,epochs=100, verbose=2)"
        },
        {
            "cell_type": "code",
            "execution_count": 14,
            "metadata": {},
            "outputs": [
                {
                    "name": "stdout",
                    "output_type": "stream",
                    "text": "10/10 [==============================] - 0s 1ms/step - loss: 247.9104\n"
                },
                {
                    "data": {
                        "text/plain": "247.91036987304688"
                    },
                    "execution_count": 14,
                    "metadata": {},
                    "output_type": "execute_result"
                }
            ],
            "source": "loss = model.evaluate(X_test, y_test)\ny_hat = model.predict(X_test)\nloss"
        },
        {
            "cell_type": "markdown",
            "metadata": {},
            "source": "Create a list of mean squared errors and  the standard deviation of the mean squared errors"
        },
        {
            "cell_type": "code",
            "execution_count": 15,
            "metadata": {
                "scrolled": true
            },
            "outputs": [
                {
                    "name": "stdout",
                    "output_type": "stream",
                    "text": "MSE 1: 113.57733917236328\nMSE 2: 75.41046142578125\nMSE 3: 69.06085968017578\nMSE 4: 64.89927673339844\nMSE 5: 61.562904357910156\nMSE 6: 56.144752502441406\nMSE 7: 52.804264068603516\nMSE 8: 52.99995040893555\nMSE 9: 51.60687255859375\nMSE 10: 53.63710403442383\nMSE 11: 51.21757888793945\nMSE 12: 51.47074508666992\nMSE 13: 51.05842971801758\nMSE 14: 50.23651885986328\nMSE 15: 52.61231994628906\nMSE 16: 51.24005889892578\nMSE 17: 53.33460235595703\nMSE 18: 53.12024688720703\nMSE 19: 55.367713928222656\nMSE 20: 50.422733306884766\nMSE 21: 53.6462516784668\nMSE 22: 50.93581771850586\nMSE 23: 49.97244644165039\nMSE 24: 50.3879280090332\nMSE 25: 50.49930953979492\nMSE 26: 50.272247314453125\nMSE 27: 52.43343734741211\nMSE 28: 50.51264572143555\nMSE 29: 50.87907791137695\nMSE 30: 51.557743072509766\nMSE 31: 50.55476379394531\nMSE 32: 50.53513717651367\nMSE 33: 50.04345703125\nMSE 34: 51.9278678894043\nMSE 35: 50.3251953125\nMSE 36: 51.838623046875\nMSE 37: 50.28825759887695\nMSE 38: 57.006168365478516\nMSE 39: 50.375728607177734\nMSE 40: 50.35607147216797\nMSE 41: 51.82572937011719\nMSE 42: 51.197052001953125\nMSE 43: 50.64188766479492\nMSE 44: 51.999969482421875\nMSE 45: 50.426673889160156\nMSE 46: 51.991973876953125\nMSE 47: 52.739219665527344\nMSE 48: 50.530147552490234\nMSE 49: 50.291160583496094\nMSE 50: 52.37018585205078\nMean:  54.20293744043548 Standard Deviation: 9.762257482202624\n"
                }
            ],
            "source": "total_mean_squared_errors = 50\nmean_squared_errors = []\nfor i in range(0,total_mean_squared_errors):\n    X_train, X_test, y_train, y_test = train_test_split(predictors, target, test_size=0.3, random_state=4)\n    model.fit(X_train, y_train, epochs=100, verbose=0)\n    MSE = model.evaluate(X_test, y_test, verbose=0)\n    print(\"MSE \"+str(i+1)+\": \"+str(MSE))\n    y_hat = model.predict(X_test)\n    errors = mean_squared_error(y_test, y_hat)\n    mean_squared_errors.append(errors)\n    \nmean = np.mean(np.array(mean_squared_errors))\nSTD = np.std(mean_squared_errors)\nprint(\"Mean: \",str(mean), \"Standard Deviation:\",str(STD))\n"
        },
        {
            "cell_type": "code",
            "execution_count": 16,
            "metadata": {},
            "outputs": [
                {
                    "data": {
                        "text/html": "<div>\n<style scoped>\n    .dataframe tbody tr th:only-of-type {\n        vertical-align: middle;\n    }\n\n    .dataframe tbody tr th {\n        vertical-align: top;\n    }\n\n    .dataframe thead th {\n        text-align: right;\n    }\n</style>\n<table border=\"1\" class=\"dataframe\">\n  <thead>\n    <tr style=\"text-align: right;\">\n      <th></th>\n      <th>Experiment</th>\n      <th>MMSE</th>\n      <th>STD</th>\n    </tr>\n  </thead>\n  <tbody>\n    <tr>\n      <th>0</th>\n      <td>Experiment3</td>\n      <td>54.202937</td>\n      <td>9.762257</td>\n    </tr>\n  </tbody>\n</table>\n</div>",
                        "text/plain": "    Experiment       MMSE       STD\n0  Experiment3  54.202937  9.762257"
                    },
                    "execution_count": 16,
                    "metadata": {},
                    "output_type": "execute_result"
                }
            ],
            "source": "experiment_name='Experiment'\nMMSE='MMSE'\nStandard_Dev='STD'\nreport_header = [experiment_name, MMSE,Standard_Dev]\ndef get_report(name_of_experiment, mean, STD):\n    \n    values = [[experiment_name, mean, STD]]\n\n    return pd.DataFrame(columns=report_header, data=values)\n\nexperiment_name='Experiment3'\n\nget_report(experiment_name, mean, STD)"
        },
        {
            "cell_type": "markdown",
            "metadata": {},
            "source": "We see an increase in the mmse as we increase the number of epochs, but we see a decreasse in the standard deviation"
        }
    ],
    "metadata": {
        "kernelspec": {
            "display_name": "Python 3.8",
            "language": "python",
            "name": "python3"
        },
        "language_info": {
            "codemirror_mode": {
                "name": "ipython",
                "version": 3
            },
            "file_extension": ".py",
            "mimetype": "text/x-python",
            "name": "python",
            "nbconvert_exporter": "python",
            "pygments_lexer": "ipython3",
            "version": "3.8.12"
        }
    },
    "nbformat": 4,
    "nbformat_minor": 1
}