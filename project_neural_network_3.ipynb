{
    "cells": [
        {
            "cell_type": "code",
            "execution_count": 1,
            "metadata": {},
            "outputs": [],
            "source": "import numpy as np\nimport pandas as pd\nimport tensorflow as tf\nfrom tensorflow import keras\nfrom sklearn.metrics import mean_squared_error\nfrom tensorflow.keras.models import Sequential\nfrom tensorflow.keras.layers import Dense"
        },
        {
            "cell_type": "markdown",
            "metadata": {},
            "source": "Download the data"
        },
        {
            "cell_type": "code",
            "execution_count": 2,
            "metadata": {},
            "outputs": [
                {
                    "data": {
                        "text/html": "<div>\n<style scoped>\n    .dataframe tbody tr th:only-of-type {\n        vertical-align: middle;\n    }\n\n    .dataframe tbody tr th {\n        vertical-align: top;\n    }\n\n    .dataframe thead th {\n        text-align: right;\n    }\n</style>\n<table border=\"1\" class=\"dataframe\">\n  <thead>\n    <tr style=\"text-align: right;\">\n      <th></th>\n      <th>Cement</th>\n      <th>Blast Furnace Slag</th>\n      <th>Fly Ash</th>\n      <th>Water</th>\n      <th>Superplasticizer</th>\n      <th>Coarse Aggregate</th>\n      <th>Fine Aggregate</th>\n      <th>Age</th>\n      <th>Strength</th>\n    </tr>\n  </thead>\n  <tbody>\n    <tr>\n      <th>0</th>\n      <td>540.0</td>\n      <td>0.0</td>\n      <td>0.0</td>\n      <td>162.0</td>\n      <td>2.5</td>\n      <td>1040.0</td>\n      <td>676.0</td>\n      <td>28</td>\n      <td>79.99</td>\n    </tr>\n    <tr>\n      <th>1</th>\n      <td>540.0</td>\n      <td>0.0</td>\n      <td>0.0</td>\n      <td>162.0</td>\n      <td>2.5</td>\n      <td>1055.0</td>\n      <td>676.0</td>\n      <td>28</td>\n      <td>61.89</td>\n    </tr>\n    <tr>\n      <th>2</th>\n      <td>332.5</td>\n      <td>142.5</td>\n      <td>0.0</td>\n      <td>228.0</td>\n      <td>0.0</td>\n      <td>932.0</td>\n      <td>594.0</td>\n      <td>270</td>\n      <td>40.27</td>\n    </tr>\n    <tr>\n      <th>3</th>\n      <td>332.5</td>\n      <td>142.5</td>\n      <td>0.0</td>\n      <td>228.0</td>\n      <td>0.0</td>\n      <td>932.0</td>\n      <td>594.0</td>\n      <td>365</td>\n      <td>41.05</td>\n    </tr>\n    <tr>\n      <th>4</th>\n      <td>198.6</td>\n      <td>132.4</td>\n      <td>0.0</td>\n      <td>192.0</td>\n      <td>0.0</td>\n      <td>978.4</td>\n      <td>825.5</td>\n      <td>360</td>\n      <td>44.30</td>\n    </tr>\n  </tbody>\n</table>\n</div>",
                        "text/plain": "   Cement  Blast Furnace Slag  Fly Ash  Water  Superplasticizer  \\\n0   540.0                 0.0      0.0  162.0               2.5   \n1   540.0                 0.0      0.0  162.0               2.5   \n2   332.5               142.5      0.0  228.0               0.0   \n3   332.5               142.5      0.0  228.0               0.0   \n4   198.6               132.4      0.0  192.0               0.0   \n\n   Coarse Aggregate  Fine Aggregate  Age  Strength  \n0            1040.0           676.0   28     79.99  \n1            1055.0           676.0   28     61.89  \n2             932.0           594.0  270     40.27  \n3             932.0           594.0  365     41.05  \n4             978.4           825.5  360     44.30  "
                    },
                    "execution_count": 2,
                    "metadata": {},
                    "output_type": "execute_result"
                }
            ],
            "source": "concrete_data = pd.read_csv('https://s3-api.us-geo.objectstorage.softlayer.net/cf-courses-data/CognitiveClass/DL0101EN/labs/data/concrete_data.csv')\nconcrete_data.head()"
        },
        {
            "cell_type": "code",
            "execution_count": 3,
            "metadata": {},
            "outputs": [
                {
                    "data": {
                        "text/plain": "(1030, 9)"
                    },
                    "execution_count": 3,
                    "metadata": {},
                    "output_type": "execute_result"
                }
            ],
            "source": "concrete_data.shape"
        },
        {
            "cell_type": "code",
            "execution_count": 4,
            "metadata": {},
            "outputs": [
                {
                    "data": {
                        "text/html": "<div>\n<style scoped>\n    .dataframe tbody tr th:only-of-type {\n        vertical-align: middle;\n    }\n\n    .dataframe tbody tr th {\n        vertical-align: top;\n    }\n\n    .dataframe thead th {\n        text-align: right;\n    }\n</style>\n<table border=\"1\" class=\"dataframe\">\n  <thead>\n    <tr style=\"text-align: right;\">\n      <th></th>\n      <th>Cement</th>\n      <th>Blast Furnace Slag</th>\n      <th>Fly Ash</th>\n      <th>Water</th>\n      <th>Superplasticizer</th>\n      <th>Coarse Aggregate</th>\n      <th>Fine Aggregate</th>\n      <th>Age</th>\n      <th>Strength</th>\n    </tr>\n  </thead>\n  <tbody>\n    <tr>\n      <th>count</th>\n      <td>1030.000000</td>\n      <td>1030.000000</td>\n      <td>1030.000000</td>\n      <td>1030.000000</td>\n      <td>1030.000000</td>\n      <td>1030.000000</td>\n      <td>1030.000000</td>\n      <td>1030.000000</td>\n      <td>1030.000000</td>\n    </tr>\n    <tr>\n      <th>mean</th>\n      <td>281.167864</td>\n      <td>73.895825</td>\n      <td>54.188350</td>\n      <td>181.567282</td>\n      <td>6.204660</td>\n      <td>972.918932</td>\n      <td>773.580485</td>\n      <td>45.662136</td>\n      <td>35.817961</td>\n    </tr>\n    <tr>\n      <th>std</th>\n      <td>104.506364</td>\n      <td>86.279342</td>\n      <td>63.997004</td>\n      <td>21.354219</td>\n      <td>5.973841</td>\n      <td>77.753954</td>\n      <td>80.175980</td>\n      <td>63.169912</td>\n      <td>16.705742</td>\n    </tr>\n    <tr>\n      <th>min</th>\n      <td>102.000000</td>\n      <td>0.000000</td>\n      <td>0.000000</td>\n      <td>121.800000</td>\n      <td>0.000000</td>\n      <td>801.000000</td>\n      <td>594.000000</td>\n      <td>1.000000</td>\n      <td>2.330000</td>\n    </tr>\n    <tr>\n      <th>25%</th>\n      <td>192.375000</td>\n      <td>0.000000</td>\n      <td>0.000000</td>\n      <td>164.900000</td>\n      <td>0.000000</td>\n      <td>932.000000</td>\n      <td>730.950000</td>\n      <td>7.000000</td>\n      <td>23.710000</td>\n    </tr>\n    <tr>\n      <th>50%</th>\n      <td>272.900000</td>\n      <td>22.000000</td>\n      <td>0.000000</td>\n      <td>185.000000</td>\n      <td>6.400000</td>\n      <td>968.000000</td>\n      <td>779.500000</td>\n      <td>28.000000</td>\n      <td>34.445000</td>\n    </tr>\n    <tr>\n      <th>75%</th>\n      <td>350.000000</td>\n      <td>142.950000</td>\n      <td>118.300000</td>\n      <td>192.000000</td>\n      <td>10.200000</td>\n      <td>1029.400000</td>\n      <td>824.000000</td>\n      <td>56.000000</td>\n      <td>46.135000</td>\n    </tr>\n    <tr>\n      <th>max</th>\n      <td>540.000000</td>\n      <td>359.400000</td>\n      <td>200.100000</td>\n      <td>247.000000</td>\n      <td>32.200000</td>\n      <td>1145.000000</td>\n      <td>992.600000</td>\n      <td>365.000000</td>\n      <td>82.600000</td>\n    </tr>\n  </tbody>\n</table>\n</div>",
                        "text/plain": "            Cement  Blast Furnace Slag      Fly Ash        Water  \\\ncount  1030.000000         1030.000000  1030.000000  1030.000000   \nmean    281.167864           73.895825    54.188350   181.567282   \nstd     104.506364           86.279342    63.997004    21.354219   \nmin     102.000000            0.000000     0.000000   121.800000   \n25%     192.375000            0.000000     0.000000   164.900000   \n50%     272.900000           22.000000     0.000000   185.000000   \n75%     350.000000          142.950000   118.300000   192.000000   \nmax     540.000000          359.400000   200.100000   247.000000   \n\n       Superplasticizer  Coarse Aggregate  Fine Aggregate          Age  \\\ncount       1030.000000       1030.000000     1030.000000  1030.000000   \nmean           6.204660        972.918932      773.580485    45.662136   \nstd            5.973841         77.753954       80.175980    63.169912   \nmin            0.000000        801.000000      594.000000     1.000000   \n25%            0.000000        932.000000      730.950000     7.000000   \n50%            6.400000        968.000000      779.500000    28.000000   \n75%           10.200000       1029.400000      824.000000    56.000000   \nmax           32.200000       1145.000000      992.600000   365.000000   \n\n          Strength  \ncount  1030.000000  \nmean     35.817961  \nstd      16.705742  \nmin       2.330000  \n25%      23.710000  \n50%      34.445000  \n75%      46.135000  \nmax      82.600000  "
                    },
                    "execution_count": 4,
                    "metadata": {},
                    "output_type": "execute_result"
                }
            ],
            "source": "#Let's check the dataset for any missing values.\nconcrete_data.describe()"
        },
        {
            "cell_type": "code",
            "execution_count": 5,
            "metadata": {},
            "outputs": [
                {
                    "data": {
                        "text/plain": "Cement                0\nBlast Furnace Slag    0\nFly Ash               0\nWater                 0\nSuperplasticizer      0\nCoarse Aggregate      0\nFine Aggregate        0\nAge                   0\nStrength              0\ndtype: int64"
                    },
                    "execution_count": 5,
                    "metadata": {},
                    "output_type": "execute_result"
                }
            ],
            "source": "concrete_data.isnull().sum()"
        },
        {
            "cell_type": "markdown",
            "metadata": {},
            "source": "## Split data into predictors and target\nThe target variable in this problem is the concrete sample strength. Therefore, our predictors will be all the other columns."
        },
        {
            "cell_type": "code",
            "execution_count": 6,
            "metadata": {},
            "outputs": [],
            "source": "concrete_data_columns = concrete_data.columns\n\npredictors = concrete_data[concrete_data_columns[concrete_data_columns != 'Strength']] # all columns except Strength\ntarget = concrete_data['Strength'] # Strength column"
        },
        {
            "cell_type": "code",
            "execution_count": 7,
            "metadata": {},
            "outputs": [
                {
                    "data": {
                        "text/html": "<div>\n<style scoped>\n    .dataframe tbody tr th:only-of-type {\n        vertical-align: middle;\n    }\n\n    .dataframe tbody tr th {\n        vertical-align: top;\n    }\n\n    .dataframe thead th {\n        text-align: right;\n    }\n</style>\n<table border=\"1\" class=\"dataframe\">\n  <thead>\n    <tr style=\"text-align: right;\">\n      <th></th>\n      <th>Cement</th>\n      <th>Blast Furnace Slag</th>\n      <th>Fly Ash</th>\n      <th>Water</th>\n      <th>Superplasticizer</th>\n      <th>Coarse Aggregate</th>\n      <th>Fine Aggregate</th>\n      <th>Age</th>\n    </tr>\n  </thead>\n  <tbody>\n    <tr>\n      <th>0</th>\n      <td>540.0</td>\n      <td>0.0</td>\n      <td>0.0</td>\n      <td>162.0</td>\n      <td>2.5</td>\n      <td>1040.0</td>\n      <td>676.0</td>\n      <td>28</td>\n    </tr>\n    <tr>\n      <th>1</th>\n      <td>540.0</td>\n      <td>0.0</td>\n      <td>0.0</td>\n      <td>162.0</td>\n      <td>2.5</td>\n      <td>1055.0</td>\n      <td>676.0</td>\n      <td>28</td>\n    </tr>\n    <tr>\n      <th>2</th>\n      <td>332.5</td>\n      <td>142.5</td>\n      <td>0.0</td>\n      <td>228.0</td>\n      <td>0.0</td>\n      <td>932.0</td>\n      <td>594.0</td>\n      <td>270</td>\n    </tr>\n    <tr>\n      <th>3</th>\n      <td>332.5</td>\n      <td>142.5</td>\n      <td>0.0</td>\n      <td>228.0</td>\n      <td>0.0</td>\n      <td>932.0</td>\n      <td>594.0</td>\n      <td>365</td>\n    </tr>\n    <tr>\n      <th>4</th>\n      <td>198.6</td>\n      <td>132.4</td>\n      <td>0.0</td>\n      <td>192.0</td>\n      <td>0.0</td>\n      <td>978.4</td>\n      <td>825.5</td>\n      <td>360</td>\n    </tr>\n  </tbody>\n</table>\n</div>",
                        "text/plain": "   Cement  Blast Furnace Slag  Fly Ash  Water  Superplasticizer  \\\n0   540.0                 0.0      0.0  162.0               2.5   \n1   540.0                 0.0      0.0  162.0               2.5   \n2   332.5               142.5      0.0  228.0               0.0   \n3   332.5               142.5      0.0  228.0               0.0   \n4   198.6               132.4      0.0  192.0               0.0   \n\n   Coarse Aggregate  Fine Aggregate  Age  \n0            1040.0           676.0   28  \n1            1055.0           676.0   28  \n2             932.0           594.0  270  \n3             932.0           594.0  365  \n4             978.4           825.5  360  "
                    },
                    "execution_count": 7,
                    "metadata": {},
                    "output_type": "execute_result"
                }
            ],
            "source": "#Let's do a quick sanity check of the predictors and the target dataframes.\npredictors.head()"
        },
        {
            "cell_type": "code",
            "execution_count": 8,
            "metadata": {},
            "outputs": [
                {
                    "data": {
                        "text/plain": "0    79.99\n1    61.89\n2    40.27\n3    41.05\n4    44.30\nName: Strength, dtype: float64"
                    },
                    "execution_count": 8,
                    "metadata": {},
                    "output_type": "execute_result"
                }
            ],
            "source": "target.head()"
        },
        {
            "cell_type": "code",
            "execution_count": 9,
            "metadata": {},
            "outputs": [
                {
                    "data": {
                        "text/plain": "8"
                    },
                    "execution_count": 9,
                    "metadata": {},
                    "output_type": "execute_result"
                }
            ],
            "source": "#Let's save the number of predictors to _n_cols_ since we will need this number when building our network.\nn_cols = predictors.shape[1] # number of predictors\nn_cols"
        },
        {
            "cell_type": "markdown",
            "metadata": {},
            "source": "# Build a Neural Network\n"
        },
        {
            "cell_type": "code",
            "execution_count": 10,
            "metadata": {},
            "outputs": [],
            "source": "def regression_model():\n    # create model\n    model = Sequential()\n    model.add(Dense(10, activation='relu', input_shape=(n_cols,)))\n    model.add(Dense(1))\n    \n    # compile model\n    model.compile(optimizer='Adam', loss='mean_squared_error')\n    return model"
        },
        {
            "cell_type": "code",
            "execution_count": 11,
            "metadata": {},
            "outputs": [],
            "source": "from sklearn.model_selection import train_test_split\nX_train, X_test, y_train, y_test = train_test_split(predictors, target, test_size=0.3, random_state=4)"
        },
        {
            "cell_type": "code",
            "execution_count": 12,
            "metadata": {},
            "outputs": [],
            "source": "# build the model\nmodel = regression_model()"
        },
        {
            "cell_type": "markdown",
            "metadata": {},
            "source": "# Train and Test the Network"
        },
        {
            "cell_type": "code",
            "execution_count": 13,
            "metadata": {},
            "outputs": [
                {
                    "name": "stdout",
                    "output_type": "stream",
                    "text": "Epoch 1/100\n10/10 - 0s - loss: 11537.6631\nEpoch 2/100\n10/10 - 0s - loss: 8715.7607\nEpoch 3/100\n10/10 - 0s - loss: 6511.4854\nEpoch 4/100\n10/10 - 0s - loss: 4783.5649\nEpoch 5/100\n10/10 - 0s - loss: 3437.1497\nEpoch 6/100\n10/10 - 0s - loss: 2417.0251\nEpoch 7/100\n10/10 - 0s - loss: 1669.4767\nEpoch 8/100\n10/10 - 0s - loss: 1153.9092\nEpoch 9/100\n10/10 - 0s - loss: 816.0535\nEpoch 10/100\n10/10 - 0s - loss: 604.2604\nEpoch 11/100\n10/10 - 0s - loss: 488.7585\nEpoch 12/100\n10/10 - 0s - loss: 428.6920\nEpoch 13/100\n10/10 - 0s - loss: 399.4289\nEpoch 14/100\n10/10 - 0s - loss: 387.3436\nEpoch 15/100\n10/10 - 0s - loss: 380.3462\nEpoch 16/100\n10/10 - 0s - loss: 376.0684\nEpoch 17/100\n10/10 - 0s - loss: 373.1783\nEpoch 18/100\n10/10 - 0s - loss: 369.5872\nEpoch 19/100\n10/10 - 0s - loss: 366.3549\nEpoch 20/100\n10/10 - 0s - loss: 362.9329\nEpoch 21/100\n10/10 - 0s - loss: 359.5959\nEpoch 22/100\n10/10 - 0s - loss: 356.1719\nEpoch 23/100\n10/10 - 0s - loss: 352.5484\nEpoch 24/100\n10/10 - 0s - loss: 349.4044\nEpoch 25/100\n10/10 - 0s - loss: 345.8974\nEpoch 26/100\n10/10 - 0s - loss: 342.6159\nEpoch 27/100\n10/10 - 0s - loss: 338.8971\nEpoch 28/100\n10/10 - 0s - loss: 335.8415\nEpoch 29/100\n10/10 - 0s - loss: 332.7772\nEpoch 30/100\n10/10 - 0s - loss: 329.4673\nEpoch 31/100\n10/10 - 0s - loss: 326.4728\nEpoch 32/100\n10/10 - 0s - loss: 323.3873\nEpoch 33/100\n10/10 - 0s - loss: 320.4097\nEpoch 34/100\n10/10 - 0s - loss: 317.4336\nEpoch 35/100\n10/10 - 0s - loss: 315.1491\nEpoch 36/100\n10/10 - 0s - loss: 311.7326\nEpoch 37/100\n10/10 - 0s - loss: 308.9485\nEpoch 38/100\n10/10 - 0s - loss: 306.2766\nEpoch 39/100\n10/10 - 0s - loss: 303.6890\nEpoch 40/100\n10/10 - 0s - loss: 301.0946\nEpoch 41/100\n10/10 - 0s - loss: 298.2878\nEpoch 42/100\n10/10 - 0s - loss: 295.6944\nEpoch 43/100\n10/10 - 0s - loss: 293.0763\nEpoch 44/100\n10/10 - 0s - loss: 290.7385\nEpoch 45/100\n10/10 - 0s - loss: 288.3123\nEpoch 46/100\n10/10 - 0s - loss: 285.8731\nEpoch 47/100\n10/10 - 0s - loss: 283.6497\nEpoch 48/100\n10/10 - 0s - loss: 281.5323\nEpoch 49/100\n10/10 - 0s - loss: 278.9522\nEpoch 50/100\n10/10 - 0s - loss: 277.1897\nEpoch 51/100\n10/10 - 0s - loss: 274.7873\nEpoch 52/100\n10/10 - 0s - loss: 272.6966\nEpoch 53/100\n10/10 - 0s - loss: 270.8922\nEpoch 54/100\n10/10 - 0s - loss: 268.8883\nEpoch 55/100\n10/10 - 0s - loss: 266.8994\nEpoch 56/100\n10/10 - 0s - loss: 264.8456\nEpoch 57/100\n10/10 - 0s - loss: 263.0079\nEpoch 58/100\n10/10 - 0s - loss: 261.2818\nEpoch 59/100\n10/10 - 0s - loss: 259.4464\nEpoch 60/100\n10/10 - 0s - loss: 257.6568\nEpoch 61/100\n10/10 - 0s - loss: 255.9997\nEpoch 62/100\n10/10 - 0s - loss: 253.8707\nEpoch 63/100\n10/10 - 0s - loss: 252.1352\nEpoch 64/100\n10/10 - 0s - loss: 250.4255\nEpoch 65/100\n10/10 - 0s - loss: 248.9904\nEpoch 66/100\n10/10 - 0s - loss: 247.2584\nEpoch 67/100\n10/10 - 0s - loss: 245.4590\nEpoch 68/100\n10/10 - 0s - loss: 243.8007\nEpoch 69/100\n10/10 - 0s - loss: 242.9914\nEpoch 70/100\n10/10 - 0s - loss: 241.2903\nEpoch 71/100\n10/10 - 0s - loss: 240.1879\nEpoch 72/100\n10/10 - 0s - loss: 238.7766\nEpoch 73/100\n10/10 - 0s - loss: 237.0847\nEpoch 74/100\n10/10 - 0s - loss: 235.5793\nEpoch 75/100\n10/10 - 0s - loss: 234.3809\nEpoch 76/100\n10/10 - 0s - loss: 233.3179\nEpoch 77/100\n10/10 - 0s - loss: 232.2868\nEpoch 78/100\n10/10 - 0s - loss: 230.4608\nEpoch 79/100\n10/10 - 0s - loss: 230.4864\nEpoch 80/100\n10/10 - 0s - loss: 228.7561\nEpoch 81/100\n10/10 - 0s - loss: 227.3016\nEpoch 82/100\n10/10 - 0s - loss: 225.9408\nEpoch 83/100\n10/10 - 0s - loss: 225.0196\nEpoch 84/100\n10/10 - 0s - loss: 223.5717\nEpoch 85/100\n10/10 - 0s - loss: 222.6767\nEpoch 86/100\n10/10 - 0s - loss: 221.5951\nEpoch 87/100\n10/10 - 0s - loss: 220.4477\nEpoch 88/100\n10/10 - 0s - loss: 219.8124\nEpoch 89/100\n10/10 - 0s - loss: 218.1569\nEpoch 90/100\n10/10 - 0s - loss: 217.2830\nEpoch 91/100\n10/10 - 0s - loss: 216.1773\nEpoch 92/100\n10/10 - 0s - loss: 215.1792\nEpoch 93/100\n10/10 - 0s - loss: 214.3534\nEpoch 94/100\n10/10 - 0s - loss: 213.1552\nEpoch 95/100\n10/10 - 0s - loss: 212.2993\nEpoch 96/100\n10/10 - 0s - loss: 211.1209\nEpoch 97/100\n10/10 - 0s - loss: 210.2662\nEpoch 98/100\n10/10 - 0s - loss: 209.3144\nEpoch 99/100\n10/10 - 0s - loss: 208.1661\nEpoch 100/100\n10/10 - 0s - loss: 207.4007\n"
                },
                {
                    "data": {
                        "text/plain": "<tensorflow.python.keras.callbacks.History at 0x7ffb3c3425e0>"
                    },
                    "execution_count": 13,
                    "metadata": {},
                    "output_type": "execute_result"
                }
            ],
            "source": "# build the model\nmodel.fit( X_test, y_test,epochs=100, verbose=2)"
        },
        {
            "cell_type": "code",
            "execution_count": 14,
            "metadata": {},
            "outputs": [
                {
                    "name": "stdout",
                    "output_type": "stream",
                    "text": "10/10 [==============================] - 0s 1ms/step - loss: 206.7062\n"
                },
                {
                    "data": {
                        "text/plain": "206.70620727539062"
                    },
                    "execution_count": 14,
                    "metadata": {},
                    "output_type": "execute_result"
                }
            ],
            "source": "loss = model.evaluate(X_test, y_test)\ny_hat = model.predict(X_test)\nloss"
        },
        {
            "cell_type": "markdown",
            "metadata": {},
            "source": "Create a list of mean squared errors and  the standard deviation of the mean squared errors"
        },
        {
            "cell_type": "code",
            "execution_count": 15,
            "metadata": {},
            "outputs": [
                {
                    "name": "stdout",
                    "output_type": "stream",
                    "text": "MSE 1: 83.3148193359375\nMSE 2: 63.38655471801758\nMSE 3: 58.39142608642578\nMSE 4: 52.21872329711914\nMSE 5: 50.597206115722656\nMSE 6: 49.94093704223633\nMSE 7: 49.779178619384766\nMSE 8: 49.33877944946289\nMSE 9: 49.315635681152344\nMSE 10: 49.157875061035156\nMSE 11: 50.338417053222656\nMSE 12: 50.26996994018555\nMSE 13: 50.018367767333984\nMSE 14: 49.27838134765625\nMSE 15: 49.774295806884766\nMSE 16: 50.245059967041016\nMSE 17: 48.99333572387695\nMSE 18: 50.294700622558594\nMSE 19: 49.44837951660156\nMSE 20: 49.4058837890625\nMSE 21: 50.12289047241211\nMSE 22: 49.271217346191406\nMSE 23: 48.84145736694336\nMSE 24: 48.768489837646484\nMSE 25: 48.657047271728516\nMSE 26: 49.839080810546875\nMSE 27: 48.91413497924805\nMSE 28: 51.5472412109375\nMSE 29: 48.756927490234375\nMSE 30: 48.87359619140625\nMSE 31: 49.22476577758789\nMSE 32: 48.55338668823242\nMSE 33: 50.008277893066406\nMSE 34: 48.59779357910156\nMSE 35: 55.884986877441406\nMSE 36: 48.91836166381836\nMSE 37: 48.92611312866211\nMSE 38: 48.39175796508789\nMSE 39: 49.235416412353516\nMSE 40: 50.66703414916992\nMSE 41: 49.4803352355957\nMSE 42: 49.27516174316406\nMSE 43: 49.8397102355957\nMSE 44: 55.28834915161133\nMSE 45: 48.51049041748047\nMSE 46: 49.042747497558594\nMSE 47: 48.390140533447266\nMSE 48: 48.99317169189453\nMSE 49: 48.35526657104492\nMSE 50: 49.32905578613281\nMean:  50.84024616916633 Standard Deviation: 5.346499215585793\n"
                }
            ],
            "source": "total_mean_squared_errors = 50\nmean_squared_errors = []\nfor i in range(0,total_mean_squared_errors):\n    X_train, X_test, y_train, y_test = train_test_split(predictors, target, test_size=0.3, random_state=4)\n    model.fit(X_train, y_train, epochs=100, verbose=0)\n    MSE = model.evaluate(X_test, y_test, verbose=0)\n    print(\"MSE \"+str(i+1)+\": \"+str(MSE))\n    y_hat = model.predict(X_test)\n    errors = mean_squared_error(y_test, y_hat)\n    mean_squared_errors.append(errors)\n    \nmean = np.mean(np.array(mean_squared_errors))\nSTD = np.std(mean_squared_errors)\nprint(\"Mean: \",str(mean), \"Standard Deviation:\",str(STD))\n"
        },
        {
            "cell_type": "code",
            "execution_count": null,
            "metadata": {},
            "outputs": [],
            "source": "We see an improve in the performance as we increase the number of epochs, both the mean  of the MSE and the standard deviation went down"
        }
    ],
    "metadata": {
        "kernelspec": {
            "display_name": "Python 3.8",
            "language": "python",
            "name": "python3"
        },
        "language_info": {
            "codemirror_mode": {
                "name": "ipython",
                "version": 3
            },
            "file_extension": ".py",
            "mimetype": "text/x-python",
            "name": "python",
            "nbconvert_exporter": "python",
            "pygments_lexer": "ipython3",
            "version": "3.8.12"
        }
    },
    "nbformat": 4,
    "nbformat_minor": 1
}